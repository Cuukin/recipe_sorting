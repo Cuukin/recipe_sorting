{
 "metadata": {
  "language_info": {
   "codemirror_mode": {
    "name": "ipython",
    "version": 3
   },
   "file_extension": ".py",
   "mimetype": "text/x-python",
   "name": "python",
   "nbconvert_exporter": "python",
   "pygments_lexer": "ipython3",
   "version": "3.8.8"
  },
  "orig_nbformat": 2,
  "kernelspec": {
   "name": "python388jvsc74a57bd09c55446680d5435dcfad149676b5f9bdd40bd2288f3a0546b701a7eed2675e86",
   "display_name": "Python 3.8.8 64-bit ('base': conda)"
  }
 },
 "nbformat": 4,
 "nbformat_minor": 2,
 "cells": [
  {
   "cell_type": "code",
   "execution_count": 1,
   "metadata": {},
   "outputs": [],
   "source": [
    "import numpy as np \n",
    "import pandas as pd \n",
    "from recipes import Recipes"
   ]
  },
  {
   "cell_type": "code",
   "execution_count": 2,
   "metadata": {},
   "outputs": [],
   "source": [
    "cuukin = Recipes()"
   ]
  },
  {
   "cell_type": "code",
   "execution_count": 3,
   "metadata": {},
   "outputs": [],
   "source": [
    "cuukin.import_data(listings_folder='listings', training_folder='training')"
   ]
  },
  {
   "cell_type": "code",
   "execution_count": 4,
   "metadata": {},
   "outputs": [],
   "source": [
    "def find_technique_name(id_list):\n",
    "    result = []\n",
    "    for id in id_list:\n",
    "        result.append(cuukin.listings['techniques']['name'][id])\n",
    "    return result\n",
    "\n",
    "cuukin.training_data['recipe_techniques'] = cuukin.training_data['recipe_techniques'].assign(technique_name = find_technique_name(cuukin.training_data['recipe_techniques']['technique_id']))"
   ]
  },
  {
   "cell_type": "code",
   "execution_count": 5,
   "metadata": {},
   "outputs": [
    {
     "output_type": "execute_result",
     "data": {
      "text/plain": [
       "    recipe_id  technique_id                       created_at  \\\n",
       "id                                                             \n",
       "34         15             2 2021-04-27 21:03:26.635000+00:00   \n",
       "33         15            51 2021-04-27 21:02:56.154000+00:00   \n",
       "32         15            52 2021-04-27 21:02:21.199000+00:00   \n",
       "\n",
       "                         updated_at technique_name  \n",
       "id                                                  \n",
       "34 2021-04-27 21:03:26.635000+00:00       Dicing 1  \n",
       "33 2021-04-27 21:02:56.154000+00:00        Boiling  \n",
       "32 2021-04-27 21:02:21.199000+00:00      Simmering  "
      ],
      "text/html": "<div>\n<style scoped>\n    .dataframe tbody tr th:only-of-type {\n        vertical-align: middle;\n    }\n\n    .dataframe tbody tr th {\n        vertical-align: top;\n    }\n\n    .dataframe thead th {\n        text-align: right;\n    }\n</style>\n<table border=\"1\" class=\"dataframe\">\n  <thead>\n    <tr style=\"text-align: right;\">\n      <th></th>\n      <th>recipe_id</th>\n      <th>technique_id</th>\n      <th>created_at</th>\n      <th>updated_at</th>\n      <th>technique_name</th>\n    </tr>\n    <tr>\n      <th>id</th>\n      <th></th>\n      <th></th>\n      <th></th>\n      <th></th>\n      <th></th>\n    </tr>\n  </thead>\n  <tbody>\n    <tr>\n      <th>34</th>\n      <td>15</td>\n      <td>2</td>\n      <td>2021-04-27 21:03:26.635000+00:00</td>\n      <td>2021-04-27 21:03:26.635000+00:00</td>\n      <td>Dicing 1</td>\n    </tr>\n    <tr>\n      <th>33</th>\n      <td>15</td>\n      <td>51</td>\n      <td>2021-04-27 21:02:56.154000+00:00</td>\n      <td>2021-04-27 21:02:56.154000+00:00</td>\n      <td>Boiling</td>\n    </tr>\n    <tr>\n      <th>32</th>\n      <td>15</td>\n      <td>52</td>\n      <td>2021-04-27 21:02:21.199000+00:00</td>\n      <td>2021-04-27 21:02:21.199000+00:00</td>\n      <td>Simmering</td>\n    </tr>\n  </tbody>\n</table>\n</div>"
     },
     "metadata": {},
     "execution_count": 5
    }
   ],
   "source": [
    "cuukin.training_data['recipe_techniques'].head(3)"
   ]
  },
  {
   "cell_type": "code",
   "execution_count": 6,
   "metadata": {},
   "outputs": [
    {
     "output_type": "execute_result",
     "data": {
      "text/plain": [
       "         name  score_1  score_2  score_3  badge_id  \\\n",
       "id                                                   \n",
       "67  Measuring       15        2        0        36   \n",
       "66    Plating       15        2        0        40   \n",
       "65    Smoking       15        2        0        39   \n",
       "\n",
       "                         created_at                       updated_at  \n",
       "id                                                                    \n",
       "67 2021-03-13 17:53:26.128000+00:00 2021-03-13 17:53:26.128000+00:00  \n",
       "66 2021-03-13 17:53:26.116000+00:00 2021-03-13 17:53:26.116000+00:00  \n",
       "65 2021-03-13 17:53:26.107000+00:00 2021-03-13 17:53:26.107000+00:00  "
      ],
      "text/html": "<div>\n<style scoped>\n    .dataframe tbody tr th:only-of-type {\n        vertical-align: middle;\n    }\n\n    .dataframe tbody tr th {\n        vertical-align: top;\n    }\n\n    .dataframe thead th {\n        text-align: right;\n    }\n</style>\n<table border=\"1\" class=\"dataframe\">\n  <thead>\n    <tr style=\"text-align: right;\">\n      <th></th>\n      <th>name</th>\n      <th>score_1</th>\n      <th>score_2</th>\n      <th>score_3</th>\n      <th>badge_id</th>\n      <th>created_at</th>\n      <th>updated_at</th>\n    </tr>\n    <tr>\n      <th>id</th>\n      <th></th>\n      <th></th>\n      <th></th>\n      <th></th>\n      <th></th>\n      <th></th>\n      <th></th>\n    </tr>\n  </thead>\n  <tbody>\n    <tr>\n      <th>67</th>\n      <td>Measuring</td>\n      <td>15</td>\n      <td>2</td>\n      <td>0</td>\n      <td>36</td>\n      <td>2021-03-13 17:53:26.128000+00:00</td>\n      <td>2021-03-13 17:53:26.128000+00:00</td>\n    </tr>\n    <tr>\n      <th>66</th>\n      <td>Plating</td>\n      <td>15</td>\n      <td>2</td>\n      <td>0</td>\n      <td>40</td>\n      <td>2021-03-13 17:53:26.116000+00:00</td>\n      <td>2021-03-13 17:53:26.116000+00:00</td>\n    </tr>\n    <tr>\n      <th>65</th>\n      <td>Smoking</td>\n      <td>15</td>\n      <td>2</td>\n      <td>0</td>\n      <td>39</td>\n      <td>2021-03-13 17:53:26.107000+00:00</td>\n      <td>2021-03-13 17:53:26.107000+00:00</td>\n    </tr>\n  </tbody>\n</table>\n</div>"
     },
     "metadata": {},
     "execution_count": 6
    }
   ],
   "source": [
    "cuukin.listings['techniques'].head(3)"
   ]
  },
  {
   "cell_type": "code",
   "execution_count": 7,
   "metadata": {},
   "outputs": [],
   "source": [
    "cathegories = cuukin.listings['techniques']['name']\n",
    "dummies = pd.get_dummies(cuukin.training_data['recipe_techniques']['technique_name'])\n",
    "missing_columns = list(set(cathegories)- set(dummies))"
   ]
  },
  {
   "cell_type": "code",
   "execution_count": 8,
   "metadata": {},
   "outputs": [
    {
     "output_type": "execute_result",
     "data": {
      "text/plain": [
       "   Deglazing 1  Steaming  Deep Frying  Stir Frying 1  Mincing 2  Freezing  \\\n",
       "1            0         0            0              0          0         0   \n",
       "2            0         0            0              0          0         0   \n",
       "3            0         0            0              0          0         0   \n",
       "\n",
       "   Whisking 1  Water Bathing  Flambing  Sauteeing 2  ...  Seasoning 2  \\\n",
       "1           0              0         0            0  ...            0   \n",
       "2           0              0         0            0  ...            0   \n",
       "3           0              0         0            0  ...            0   \n",
       "\n",
       "   Stir Frying 2  Roasting  Pickling  Kneading  Blending  Air Frying  \\\n",
       "1              0         0         0         0         0           0   \n",
       "2              0         0         0         0         0           0   \n",
       "3              0         0         0         0         0           0   \n",
       "\n",
       "   Double Boiler  Squeezing  Tenderizing  \n",
       "1              0          0            0  \n",
       "2              0          0            0  \n",
       "3              0          0            0  \n",
       "\n",
       "[3 rows x 53 columns]"
      ],
      "text/html": "<div>\n<style scoped>\n    .dataframe tbody tr th:only-of-type {\n        vertical-align: middle;\n    }\n\n    .dataframe tbody tr th {\n        vertical-align: top;\n    }\n\n    .dataframe thead th {\n        text-align: right;\n    }\n</style>\n<table border=\"1\" class=\"dataframe\">\n  <thead>\n    <tr style=\"text-align: right;\">\n      <th></th>\n      <th>Deglazing 1</th>\n      <th>Steaming</th>\n      <th>Deep Frying</th>\n      <th>Stir Frying 1</th>\n      <th>Mincing 2</th>\n      <th>Freezing</th>\n      <th>Whisking 1</th>\n      <th>Water Bathing</th>\n      <th>Flambing</th>\n      <th>Sauteeing 2</th>\n      <th>...</th>\n      <th>Seasoning 2</th>\n      <th>Stir Frying 2</th>\n      <th>Roasting</th>\n      <th>Pickling</th>\n      <th>Kneading</th>\n      <th>Blending</th>\n      <th>Air Frying</th>\n      <th>Double Boiler</th>\n      <th>Squeezing</th>\n      <th>Tenderizing</th>\n    </tr>\n  </thead>\n  <tbody>\n    <tr>\n      <th>1</th>\n      <td>0</td>\n      <td>0</td>\n      <td>0</td>\n      <td>0</td>\n      <td>0</td>\n      <td>0</td>\n      <td>0</td>\n      <td>0</td>\n      <td>0</td>\n      <td>0</td>\n      <td>...</td>\n      <td>0</td>\n      <td>0</td>\n      <td>0</td>\n      <td>0</td>\n      <td>0</td>\n      <td>0</td>\n      <td>0</td>\n      <td>0</td>\n      <td>0</td>\n      <td>0</td>\n    </tr>\n    <tr>\n      <th>2</th>\n      <td>0</td>\n      <td>0</td>\n      <td>0</td>\n      <td>0</td>\n      <td>0</td>\n      <td>0</td>\n      <td>0</td>\n      <td>0</td>\n      <td>0</td>\n      <td>0</td>\n      <td>...</td>\n      <td>0</td>\n      <td>0</td>\n      <td>0</td>\n      <td>0</td>\n      <td>0</td>\n      <td>0</td>\n      <td>0</td>\n      <td>0</td>\n      <td>0</td>\n      <td>0</td>\n    </tr>\n    <tr>\n      <th>3</th>\n      <td>0</td>\n      <td>0</td>\n      <td>0</td>\n      <td>0</td>\n      <td>0</td>\n      <td>0</td>\n      <td>0</td>\n      <td>0</td>\n      <td>0</td>\n      <td>0</td>\n      <td>...</td>\n      <td>0</td>\n      <td>0</td>\n      <td>0</td>\n      <td>0</td>\n      <td>0</td>\n      <td>0</td>\n      <td>0</td>\n      <td>0</td>\n      <td>0</td>\n      <td>0</td>\n    </tr>\n  </tbody>\n</table>\n<p>3 rows × 53 columns</p>\n</div>"
     },
     "metadata": {},
     "execution_count": 8
    }
   ],
   "source": [
    "number_rows = len(cuukin.training_data['recipe_techniques'].index)\n",
    "missing_data_frame = pd.DataFrame(0, index=np.arange(1,number_rows+1), columns=missing_columns)\n",
    "missing_data_frame.head(3)"
   ]
  },
  {
   "cell_type": "code",
   "execution_count": 9,
   "metadata": {},
   "outputs": [
    {
     "output_type": "execute_result",
     "data": {
      "text/plain": [
       "   recipe_id  Baking 1  Boiling  Dicing 1  Microwaving  Mixing  Pan Frying 1  \\\n",
       "1          1         0        0         0            0       0             0   \n",
       "2          1         0        0         0            0       0             0   \n",
       "3          1         0        0         0            0       0             0   \n",
       "\n",
       "   Plating  Roughly Chopping  Salting 1  ...  Seasoning 2  Stir Frying 2  \\\n",
       "1        0                 0          0  ...            0              0   \n",
       "2        1                 0          0  ...            0              0   \n",
       "3        0                 0          0  ...            0              0   \n",
       "\n",
       "   Roasting  Pickling  Kneading  Blending  Air Frying  Double Boiler  \\\n",
       "1         0         0         0         0           0              0   \n",
       "2         0         0         0         0           0              0   \n",
       "3         0         0         0         0           0              0   \n",
       "\n",
       "   Squeezing  Tenderizing  \n",
       "1          0            0  \n",
       "2          0            0  \n",
       "3          0            0  \n",
       "\n",
       "[3 rows x 68 columns]"
      ],
      "text/html": "<div>\n<style scoped>\n    .dataframe tbody tr th:only-of-type {\n        vertical-align: middle;\n    }\n\n    .dataframe tbody tr th {\n        vertical-align: top;\n    }\n\n    .dataframe thead th {\n        text-align: right;\n    }\n</style>\n<table border=\"1\" class=\"dataframe\">\n  <thead>\n    <tr style=\"text-align: right;\">\n      <th></th>\n      <th>recipe_id</th>\n      <th>Baking 1</th>\n      <th>Boiling</th>\n      <th>Dicing 1</th>\n      <th>Microwaving</th>\n      <th>Mixing</th>\n      <th>Pan Frying 1</th>\n      <th>Plating</th>\n      <th>Roughly Chopping</th>\n      <th>Salting 1</th>\n      <th>...</th>\n      <th>Seasoning 2</th>\n      <th>Stir Frying 2</th>\n      <th>Roasting</th>\n      <th>Pickling</th>\n      <th>Kneading</th>\n      <th>Blending</th>\n      <th>Air Frying</th>\n      <th>Double Boiler</th>\n      <th>Squeezing</th>\n      <th>Tenderizing</th>\n    </tr>\n  </thead>\n  <tbody>\n    <tr>\n      <th>1</th>\n      <td>1</td>\n      <td>0</td>\n      <td>0</td>\n      <td>0</td>\n      <td>0</td>\n      <td>0</td>\n      <td>0</td>\n      <td>0</td>\n      <td>0</td>\n      <td>0</td>\n      <td>...</td>\n      <td>0</td>\n      <td>0</td>\n      <td>0</td>\n      <td>0</td>\n      <td>0</td>\n      <td>0</td>\n      <td>0</td>\n      <td>0</td>\n      <td>0</td>\n      <td>0</td>\n    </tr>\n    <tr>\n      <th>2</th>\n      <td>1</td>\n      <td>0</td>\n      <td>0</td>\n      <td>0</td>\n      <td>0</td>\n      <td>0</td>\n      <td>0</td>\n      <td>1</td>\n      <td>0</td>\n      <td>0</td>\n      <td>...</td>\n      <td>0</td>\n      <td>0</td>\n      <td>0</td>\n      <td>0</td>\n      <td>0</td>\n      <td>0</td>\n      <td>0</td>\n      <td>0</td>\n      <td>0</td>\n      <td>0</td>\n    </tr>\n    <tr>\n      <th>3</th>\n      <td>1</td>\n      <td>0</td>\n      <td>0</td>\n      <td>0</td>\n      <td>0</td>\n      <td>0</td>\n      <td>0</td>\n      <td>0</td>\n      <td>0</td>\n      <td>0</td>\n      <td>...</td>\n      <td>0</td>\n      <td>0</td>\n      <td>0</td>\n      <td>0</td>\n      <td>0</td>\n      <td>0</td>\n      <td>0</td>\n      <td>0</td>\n      <td>0</td>\n      <td>0</td>\n    </tr>\n  </tbody>\n</table>\n<p>3 rows × 68 columns</p>\n</div>"
     },
     "metadata": {},
     "execution_count": 9
    }
   ],
   "source": [
    "merged = pd.concat([cuukin.training_data['recipe_techniques'], dummies, missing_data_frame], axis='columns')\n",
    "merged.drop(columns=['created_at', 'updated_at', 'technique_name', 'technique_id'], inplace=True)\n",
    "merged.head(3)"
   ]
  },
  {
   "cell_type": "code",
   "execution_count": 10,
   "metadata": {},
   "outputs": [
    {
     "output_type": "execute_result",
     "data": {
      "text/plain": [
       "           Baking 1  Boiling  Dicing 1  Microwaving  Mixing  Pan Frying 1  \\\n",
       "recipe_id                                                                   \n",
       "1                 0        0         0            0       0             0   \n",
       "2                 0        0         0            1       0             0   \n",
       "3                 1        0         0            0       1             0   \n",
       "4                 0        1         0            0       1             1   \n",
       "9                 0        0         0            0       1             1   \n",
       "\n",
       "           Plating  Roughly Chopping  Salting 1  Sauteeing 1  ...  \\\n",
       "recipe_id                                                     ...   \n",
       "1                1                 0          0            0  ...   \n",
       "2                0                 0          0            0  ...   \n",
       "3                0                 0          0            0  ...   \n",
       "4                0                 0          1            0  ...   \n",
       "9                0                 0          0            0  ...   \n",
       "\n",
       "           Seasoning 2  Stir Frying 2  Roasting  Pickling  Kneading  Blending  \\\n",
       "recipe_id                                                                       \n",
       "1                    0              0         0         0         0         0   \n",
       "2                    0              0         0         0         0         0   \n",
       "3                    0              0         0         0         0         0   \n",
       "4                    0              0         0         0         0         0   \n",
       "9                    0              0         0         0         0         0   \n",
       "\n",
       "           Air Frying  Double Boiler  Squeezing  Tenderizing  \n",
       "recipe_id                                                     \n",
       "1                   0              0          0            0  \n",
       "2                   0              0          0            0  \n",
       "3                   0              0          0            0  \n",
       "4                   0              0          0            0  \n",
       "9                   0              0          0            0  \n",
       "\n",
       "[5 rows x 67 columns]"
      ],
      "text/html": "<div>\n<style scoped>\n    .dataframe tbody tr th:only-of-type {\n        vertical-align: middle;\n    }\n\n    .dataframe tbody tr th {\n        vertical-align: top;\n    }\n\n    .dataframe thead th {\n        text-align: right;\n    }\n</style>\n<table border=\"1\" class=\"dataframe\">\n  <thead>\n    <tr style=\"text-align: right;\">\n      <th></th>\n      <th>Baking 1</th>\n      <th>Boiling</th>\n      <th>Dicing 1</th>\n      <th>Microwaving</th>\n      <th>Mixing</th>\n      <th>Pan Frying 1</th>\n      <th>Plating</th>\n      <th>Roughly Chopping</th>\n      <th>Salting 1</th>\n      <th>Sauteeing 1</th>\n      <th>...</th>\n      <th>Seasoning 2</th>\n      <th>Stir Frying 2</th>\n      <th>Roasting</th>\n      <th>Pickling</th>\n      <th>Kneading</th>\n      <th>Blending</th>\n      <th>Air Frying</th>\n      <th>Double Boiler</th>\n      <th>Squeezing</th>\n      <th>Tenderizing</th>\n    </tr>\n    <tr>\n      <th>recipe_id</th>\n      <th></th>\n      <th></th>\n      <th></th>\n      <th></th>\n      <th></th>\n      <th></th>\n      <th></th>\n      <th></th>\n      <th></th>\n      <th></th>\n      <th></th>\n      <th></th>\n      <th></th>\n      <th></th>\n      <th></th>\n      <th></th>\n      <th></th>\n      <th></th>\n      <th></th>\n      <th></th>\n      <th></th>\n    </tr>\n  </thead>\n  <tbody>\n    <tr>\n      <th>1</th>\n      <td>0</td>\n      <td>0</td>\n      <td>0</td>\n      <td>0</td>\n      <td>0</td>\n      <td>0</td>\n      <td>1</td>\n      <td>0</td>\n      <td>0</td>\n      <td>0</td>\n      <td>...</td>\n      <td>0</td>\n      <td>0</td>\n      <td>0</td>\n      <td>0</td>\n      <td>0</td>\n      <td>0</td>\n      <td>0</td>\n      <td>0</td>\n      <td>0</td>\n      <td>0</td>\n    </tr>\n    <tr>\n      <th>2</th>\n      <td>0</td>\n      <td>0</td>\n      <td>0</td>\n      <td>1</td>\n      <td>0</td>\n      <td>0</td>\n      <td>0</td>\n      <td>0</td>\n      <td>0</td>\n      <td>0</td>\n      <td>...</td>\n      <td>0</td>\n      <td>0</td>\n      <td>0</td>\n      <td>0</td>\n      <td>0</td>\n      <td>0</td>\n      <td>0</td>\n      <td>0</td>\n      <td>0</td>\n      <td>0</td>\n    </tr>\n    <tr>\n      <th>3</th>\n      <td>1</td>\n      <td>0</td>\n      <td>0</td>\n      <td>0</td>\n      <td>1</td>\n      <td>0</td>\n      <td>0</td>\n      <td>0</td>\n      <td>0</td>\n      <td>0</td>\n      <td>...</td>\n      <td>0</td>\n      <td>0</td>\n      <td>0</td>\n      <td>0</td>\n      <td>0</td>\n      <td>0</td>\n      <td>0</td>\n      <td>0</td>\n      <td>0</td>\n      <td>0</td>\n    </tr>\n    <tr>\n      <th>4</th>\n      <td>0</td>\n      <td>1</td>\n      <td>0</td>\n      <td>0</td>\n      <td>1</td>\n      <td>1</td>\n      <td>0</td>\n      <td>0</td>\n      <td>1</td>\n      <td>0</td>\n      <td>...</td>\n      <td>0</td>\n      <td>0</td>\n      <td>0</td>\n      <td>0</td>\n      <td>0</td>\n      <td>0</td>\n      <td>0</td>\n      <td>0</td>\n      <td>0</td>\n      <td>0</td>\n    </tr>\n    <tr>\n      <th>9</th>\n      <td>0</td>\n      <td>0</td>\n      <td>0</td>\n      <td>0</td>\n      <td>1</td>\n      <td>1</td>\n      <td>0</td>\n      <td>0</td>\n      <td>0</td>\n      <td>0</td>\n      <td>...</td>\n      <td>0</td>\n      <td>0</td>\n      <td>0</td>\n      <td>0</td>\n      <td>0</td>\n      <td>0</td>\n      <td>0</td>\n      <td>0</td>\n      <td>0</td>\n      <td>0</td>\n    </tr>\n  </tbody>\n</table>\n<p>5 rows × 67 columns</p>\n</div>"
     },
     "metadata": {},
     "execution_count": 10
    }
   ],
   "source": [
    "grouped = merged.groupby(['recipe_id'])\n",
    "grouped = grouped.sum()\n",
    "cuukin.training_data[\"recipe_techniques_vector\"] = grouped\n",
    "\n",
    "cuukin.training_data[\"recipe_techniques_vector\"].head()"
   ]
  }
 ]
}