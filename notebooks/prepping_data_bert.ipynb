{
 "metadata": {
  "language_info": {
   "codemirror_mode": {
    "name": "ipython",
    "version": 3
   },
   "file_extension": ".py",
   "mimetype": "text/x-python",
   "name": "python",
   "nbconvert_exporter": "python",
   "pygments_lexer": "ipython3",
   "version": "3.8.8"
  },
  "orig_nbformat": 4,
  "kernelspec": {
   "name": "python3",
   "display_name": "Python 3.8.8 64-bit ('base': conda)"
  },
  "interpreter": {
   "hash": "9c55446680d5435dcfad149676b5f9bdd40bd2288f3a0546b701a7eed2675e86"
  }
 },
 "nbformat": 4,
 "nbformat_minor": 2,
 "cells": [
  {
   "source": [
    "# Preparing training data for the BERT model"
   ],
   "cell_type": "markdown",
   "metadata": {}
  },
  {
   "cell_type": "code",
   "execution_count": 1,
   "metadata": {},
   "outputs": [],
   "source": [
    "import pandas as pd\n",
    "import sqlite3\n",
    "import os\n",
    "import spacy"
   ]
  },
  {
   "cell_type": "code",
   "execution_count": 2,
   "metadata": {},
   "outputs": [],
   "source": [
    "nlp = spacy.load(\"en_core_web_sm\")"
   ]
  },
  {
   "source": [
    "Defining user names just as in the ClassApp"
   ],
   "cell_type": "markdown",
   "metadata": {}
  },
  {
   "cell_type": "code",
   "execution_count": 3,
   "metadata": {},
   "outputs": [
    {
     "output_type": "execute_result",
     "data": {
      "text/plain": [
       "['data_GV.db',\n",
       " 'data_NA.db',\n",
       " 'data_RC.db',\n",
       " 'data_WZ.db',\n",
       " 'data_EM.db',\n",
       " 'data_FR.db',\n",
       " 'data_HC.db',\n",
       " 'data_JF.db',\n",
       " 'data_MG.db']"
      ]
     },
     "metadata": {},
     "execution_count": 3
    }
   ],
   "source": [
    "user_list = ['GV', 'NA', 'RC', 'WZ', 'EM', 'FR', 'HC', 'JF', 'MG']\n",
    "db_names = ['data_' + user + '.db' for user in user_list]\n",
    "db_names"
   ]
  },
  {
   "source": [
    "Creating paths to their .db files in the classapp_output folder"
   ],
   "cell_type": "markdown",
   "metadata": {}
  },
  {
   "cell_type": "code",
   "execution_count": 4,
   "metadata": {},
   "outputs": [
    {
     "output_type": "execute_result",
     "data": {
      "text/plain": [
       "['classapp_output\\\\data_GV.db',\n",
       " 'classapp_output\\\\data_NA.db',\n",
       " 'classapp_output\\\\data_RC.db',\n",
       " 'classapp_output\\\\data_WZ.db',\n",
       " 'classapp_output\\\\data_EM.db',\n",
       " 'classapp_output\\\\data_FR.db',\n",
       " 'classapp_output\\\\data_HC.db',\n",
       " 'classapp_output\\\\data_JF.db',\n",
       " 'classapp_output\\\\data_MG.db']"
      ]
     },
     "metadata": {},
     "execution_count": 4
    }
   ],
   "source": [
    "db_paths = [os.path.join('classapp_output', db_name) for db_name in db_names]\n",
    "db_paths"
   ]
  },
  {
   "source": [
    "Creating a list of data frames from all users"
   ],
   "cell_type": "markdown",
   "metadata": {}
  },
  {
   "cell_type": "code",
   "execution_count": 5,
   "metadata": {},
   "outputs": [
    {
     "output_type": "execute_result",
     "data": {
      "text/plain": [
       "[    user  method_id                                        description  \\\n",
       " 0     GV          0  Prick the sweet potatoes two or three times wi...   \n",
       " 1     GV          0  Prick the sweet potatoes two or three times wi...   \n",
       " 2     GV          1  To make the smoked mackerel filling, mix all t...   \n",
       " 3     GV          1  To make the smoked mackerel filling, mix all t...   \n",
       " 4     GV          2  To make the pea and feta filling, microwave th...   \n",
       " ..   ...        ...                                                ...   \n",
       " 125   GV         96  Pour in the beef stock and stir well until the...   \n",
       " 126   GV         97  Transfer the vegetables and thickened stock to...   \n",
       " 127   GV         97  Transfer the vegetables and thickened stock to...   \n",
       " 128   GV         99  Arrange the potato slices on top of the hotpot...   \n",
       " 129   GV        100  Bake the hotpot in the oven for 1-1� hours, or...   \n",
       " \n",
       "      Measuring  Plating  Smoking  Toasting  Microwaving  Air Frying  \\\n",
       " 0            0        0        0         0            1           0   \n",
       " 1            0        1        0         0            0           0   \n",
       " 2            0        0        0         0            0           0   \n",
       " 3            0        0        0         0            0           0   \n",
       " 4            0        0        0         0            1           0   \n",
       " ..         ...      ...      ...       ...          ...         ...   \n",
       " 125          0        0        0         0            0           0   \n",
       " 126          0        0        0         0            0           0   \n",
       " 127          0        0        0         0            0           0   \n",
       " 128          0        0        0         0            0           0   \n",
       " 129          0        0        0         0            0           0   \n",
       " \n",
       "      Double Boiler  ...  Seasoning  Salting  Slicing  Chopping Fruits  \\\n",
       " 0                0  ...          0        0        0                0   \n",
       " 1                0  ...          0        0        0                0   \n",
       " 2                0  ...          0        0        0                0   \n",
       " 3                0  ...          1        0        0                0   \n",
       " 4                0  ...          0        0        0                0   \n",
       " ..             ...  ...        ...      ...      ...              ...   \n",
       " 125              0  ...          0        0        0                0   \n",
       " 126              0  ...          0        0        0                0   \n",
       " 127              0  ...          0        0        0                0   \n",
       " 128              0  ...          1        0        0                0   \n",
       " 129              0  ...          0        0        0                0   \n",
       " \n",
       "      Chopping Mushroom  Chopping Herbs  Mincing  Batonnet  Dicing  \\\n",
       " 0                    0               0        0         0       0   \n",
       " 1                    0               0        0         0       0   \n",
       " 2                    0               0        0         0       0   \n",
       " 3                    0               0        0         0       0   \n",
       " 4                    0               0        0         0       0   \n",
       " ..                 ...             ...      ...       ...     ...   \n",
       " 125                  0               0        0         0       0   \n",
       " 126                  0               0        0         0       0   \n",
       " 127                  0               0        0         0       0   \n",
       " 128                  0               0        0         0       0   \n",
       " 129                  0               0        0         0       0   \n",
       " \n",
       "      Roughly Chopping  \n",
       " 0                   0  \n",
       " 1                   0  \n",
       " 2                   0  \n",
       " 3                   0  \n",
       " 4                   0  \n",
       " ..                ...  \n",
       " 125                 0  \n",
       " 126                 0  \n",
       " 127                 0  \n",
       " 128                 0  \n",
       " 129                 0  \n",
       " \n",
       " [130 rows x 55 columns]]"
      ]
     },
     "metadata": {},
     "execution_count": 5
    }
   ],
   "source": [
    "data_frames = []\n",
    "\n",
    "sql = '''\n",
    "SELECT * FROM class_methods\n",
    "'''\n",
    "for db_path in db_paths:\n",
    "    if os.path.exists(db_path):\n",
    "        conn = sqlite3.connect(db_path)\n",
    "        data_frames.append(pd.read_sql_query(sql, conn))\n",
    "        conn.commit()\n",
    "        conn.close()\n",
    "\n",
    "data_frames"
   ]
  },
  {
   "source": [
    "Concatenating that list in one data frame"
   ],
   "cell_type": "markdown",
   "metadata": {}
  },
  {
   "cell_type": "code",
   "execution_count": 6,
   "metadata": {},
   "outputs": [
    {
     "output_type": "execute_result",
     "data": {
      "text/plain": [
       "  user  method_id                                        description  \\\n",
       "0   GV          0  Prick the sweet potatoes two or three times wi...   \n",
       "1   GV          0  Prick the sweet potatoes two or three times wi...   \n",
       "2   GV          1  To make the smoked mackerel filling, mix all t...   \n",
       "3   GV          1  To make the smoked mackerel filling, mix all t...   \n",
       "4   GV          2  To make the pea and feta filling, microwave th...   \n",
       "\n",
       "   Measuring  Plating  Smoking  Toasting  Microwaving  Air Frying  \\\n",
       "0          0        0        0         0            1           0   \n",
       "1          0        1        0         0            0           0   \n",
       "2          0        0        0         0            0           0   \n",
       "3          0        0        0         0            0           0   \n",
       "4          0        0        0         0            1           0   \n",
       "\n",
       "   Double Boiler  ...  Seasoning  Salting  Slicing  Chopping Fruits  \\\n",
       "0              0  ...          0        0        0                0   \n",
       "1              0  ...          0        0        0                0   \n",
       "2              0  ...          0        0        0                0   \n",
       "3              0  ...          1        0        0                0   \n",
       "4              0  ...          0        0        0                0   \n",
       "\n",
       "   Chopping Mushroom  Chopping Herbs  Mincing  Batonnet  Dicing  \\\n",
       "0                  0               0        0         0       0   \n",
       "1                  0               0        0         0       0   \n",
       "2                  0               0        0         0       0   \n",
       "3                  0               0        0         0       0   \n",
       "4                  0               0        0         0       0   \n",
       "\n",
       "   Roughly Chopping  \n",
       "0                 0  \n",
       "1                 0  \n",
       "2                 0  \n",
       "3                 0  \n",
       "4                 0  \n",
       "\n",
       "[5 rows x 55 columns]"
      ],
      "text/html": "<div>\n<style scoped>\n    .dataframe tbody tr th:only-of-type {\n        vertical-align: middle;\n    }\n\n    .dataframe tbody tr th {\n        vertical-align: top;\n    }\n\n    .dataframe thead th {\n        text-align: right;\n    }\n</style>\n<table border=\"1\" class=\"dataframe\">\n  <thead>\n    <tr style=\"text-align: right;\">\n      <th></th>\n      <th>user</th>\n      <th>method_id</th>\n      <th>description</th>\n      <th>Measuring</th>\n      <th>Plating</th>\n      <th>Smoking</th>\n      <th>Toasting</th>\n      <th>Microwaving</th>\n      <th>Air Frying</th>\n      <th>Double Boiler</th>\n      <th>...</th>\n      <th>Seasoning</th>\n      <th>Salting</th>\n      <th>Slicing</th>\n      <th>Chopping Fruits</th>\n      <th>Chopping Mushroom</th>\n      <th>Chopping Herbs</th>\n      <th>Mincing</th>\n      <th>Batonnet</th>\n      <th>Dicing</th>\n      <th>Roughly Chopping</th>\n    </tr>\n  </thead>\n  <tbody>\n    <tr>\n      <th>0</th>\n      <td>GV</td>\n      <td>0</td>\n      <td>Prick the sweet potatoes two or three times wi...</td>\n      <td>0</td>\n      <td>0</td>\n      <td>0</td>\n      <td>0</td>\n      <td>1</td>\n      <td>0</td>\n      <td>0</td>\n      <td>...</td>\n      <td>0</td>\n      <td>0</td>\n      <td>0</td>\n      <td>0</td>\n      <td>0</td>\n      <td>0</td>\n      <td>0</td>\n      <td>0</td>\n      <td>0</td>\n      <td>0</td>\n    </tr>\n    <tr>\n      <th>1</th>\n      <td>GV</td>\n      <td>0</td>\n      <td>Prick the sweet potatoes two or three times wi...</td>\n      <td>0</td>\n      <td>1</td>\n      <td>0</td>\n      <td>0</td>\n      <td>0</td>\n      <td>0</td>\n      <td>0</td>\n      <td>...</td>\n      <td>0</td>\n      <td>0</td>\n      <td>0</td>\n      <td>0</td>\n      <td>0</td>\n      <td>0</td>\n      <td>0</td>\n      <td>0</td>\n      <td>0</td>\n      <td>0</td>\n    </tr>\n    <tr>\n      <th>2</th>\n      <td>GV</td>\n      <td>1</td>\n      <td>To make the smoked mackerel filling, mix all t...</td>\n      <td>0</td>\n      <td>0</td>\n      <td>0</td>\n      <td>0</td>\n      <td>0</td>\n      <td>0</td>\n      <td>0</td>\n      <td>...</td>\n      <td>0</td>\n      <td>0</td>\n      <td>0</td>\n      <td>0</td>\n      <td>0</td>\n      <td>0</td>\n      <td>0</td>\n      <td>0</td>\n      <td>0</td>\n      <td>0</td>\n    </tr>\n    <tr>\n      <th>3</th>\n      <td>GV</td>\n      <td>1</td>\n      <td>To make the smoked mackerel filling, mix all t...</td>\n      <td>0</td>\n      <td>0</td>\n      <td>0</td>\n      <td>0</td>\n      <td>0</td>\n      <td>0</td>\n      <td>0</td>\n      <td>...</td>\n      <td>1</td>\n      <td>0</td>\n      <td>0</td>\n      <td>0</td>\n      <td>0</td>\n      <td>0</td>\n      <td>0</td>\n      <td>0</td>\n      <td>0</td>\n      <td>0</td>\n    </tr>\n    <tr>\n      <th>4</th>\n      <td>GV</td>\n      <td>2</td>\n      <td>To make the pea and feta filling, microwave th...</td>\n      <td>0</td>\n      <td>0</td>\n      <td>0</td>\n      <td>0</td>\n      <td>1</td>\n      <td>0</td>\n      <td>0</td>\n      <td>...</td>\n      <td>0</td>\n      <td>0</td>\n      <td>0</td>\n      <td>0</td>\n      <td>0</td>\n      <td>0</td>\n      <td>0</td>\n      <td>0</td>\n      <td>0</td>\n      <td>0</td>\n    </tr>\n  </tbody>\n</table>\n<p>5 rows × 55 columns</p>\n</div>"
     },
     "metadata": {},
     "execution_count": 6
    }
   ],
   "source": [
    "# concatenating\n",
    "users_methods = pd.concat(data_frames)\n",
    "users_methods.head(5)"
   ]
  },
  {
   "source": [
    "Saving description by id to later reinsertion "
   ],
   "cell_type": "markdown",
   "metadata": {}
  },
  {
   "cell_type": "code",
   "execution_count": 7,
   "metadata": {},
   "outputs": [
    {
     "output_type": "execute_result",
     "data": {
      "text/plain": [
       "                                                 description\n",
       "method_id                                                   \n",
       "0          Prick the sweet potatoes two or three times wi...\n",
       "1          To make the smoked mackerel filling, mix all t...\n",
       "2          To make the pea and feta filling, microwave th...\n",
       "3          To make the veggie chilli filling, put the red...\n",
       "5          Whisk the egg whites in a clean large bowl usi...\n",
       "6          Spread the meringue mixture into the prepared ...\n",
       "7          To make the lemon curd, put the butter into a ...\n",
       "8          Reserve 100g/3�oz (about 6 tablespoons) of the...\n",
       "9          To fill the roulade, mix the reserved lemon cu...\n",
       "10         To serve, dust with icing sugar and decorate w..."
      ],
      "text/html": "<div>\n<style scoped>\n    .dataframe tbody tr th:only-of-type {\n        vertical-align: middle;\n    }\n\n    .dataframe tbody tr th {\n        vertical-align: top;\n    }\n\n    .dataframe thead th {\n        text-align: right;\n    }\n</style>\n<table border=\"1\" class=\"dataframe\">\n  <thead>\n    <tr style=\"text-align: right;\">\n      <th></th>\n      <th>description</th>\n    </tr>\n    <tr>\n      <th>method_id</th>\n      <th></th>\n    </tr>\n  </thead>\n  <tbody>\n    <tr>\n      <th>0</th>\n      <td>Prick the sweet potatoes two or three times wi...</td>\n    </tr>\n    <tr>\n      <th>1</th>\n      <td>To make the smoked mackerel filling, mix all t...</td>\n    </tr>\n    <tr>\n      <th>2</th>\n      <td>To make the pea and feta filling, microwave th...</td>\n    </tr>\n    <tr>\n      <th>3</th>\n      <td>To make the veggie chilli filling, put the red...</td>\n    </tr>\n    <tr>\n      <th>5</th>\n      <td>Whisk the egg whites in a clean large bowl usi...</td>\n    </tr>\n    <tr>\n      <th>6</th>\n      <td>Spread the meringue mixture into the prepared ...</td>\n    </tr>\n    <tr>\n      <th>7</th>\n      <td>To make the lemon curd, put the butter into a ...</td>\n    </tr>\n    <tr>\n      <th>8</th>\n      <td>Reserve 100g/3�oz (about 6 tablespoons) of the...</td>\n    </tr>\n    <tr>\n      <th>9</th>\n      <td>To fill the roulade, mix the reserved lemon cu...</td>\n    </tr>\n    <tr>\n      <th>10</th>\n      <td>To serve, dust with icing sugar and decorate w...</td>\n    </tr>\n  </tbody>\n</table>\n</div>"
     },
     "metadata": {},
     "execution_count": 7
    }
   ],
   "source": [
    "description_by_method_id = users_methods[[\"method_id\", \"description\"]].drop_duplicates().set_index('method_id')\n",
    "description_by_method_id.head(10)"
   ]
  },
  {
   "source": [
    "Summing classifications for each value (to get multi-label classification)"
   ],
   "cell_type": "markdown",
   "metadata": {}
  },
  {
   "cell_type": "code",
   "execution_count": 8,
   "metadata": {},
   "outputs": [
    {
     "output_type": "execute_result",
     "data": {
      "text/plain": [
       "           Measuring  Plating  Smoking  Toasting  Microwaving  Air Frying  \\\n",
       "method_id                                                                   \n",
       "0                  0        1        0         0            1           0   \n",
       "1                  0        0        0         0            0           0   \n",
       "2                  0        0        0         0            1           0   \n",
       "\n",
       "           Double Boiler  Bain Marie  Reducing  Water Bathing  ...  Seasoning  \\\n",
       "method_id                                                      ...              \n",
       "0                      0           0         0              0  ...          0   \n",
       "1                      0           0         0              0  ...          1   \n",
       "2                      0           0         0              0  ...          1   \n",
       "\n",
       "           Salting  Slicing  Chopping Fruits  Chopping Mushroom  \\\n",
       "method_id                                                         \n",
       "0                0        0                0                  0   \n",
       "1                0        0                0                  0   \n",
       "2                0        0                0                  0   \n",
       "\n",
       "           Chopping Herbs  Mincing  Batonnet  Dicing  Roughly Chopping  \n",
       "method_id                                                               \n",
       "0                       0        0         0       0                 0  \n",
       "1                       0        0         0       0                 0  \n",
       "2                       0        0         0       0                 0  \n",
       "\n",
       "[3 rows x 52 columns]"
      ],
      "text/html": "<div>\n<style scoped>\n    .dataframe tbody tr th:only-of-type {\n        vertical-align: middle;\n    }\n\n    .dataframe tbody tr th {\n        vertical-align: top;\n    }\n\n    .dataframe thead th {\n        text-align: right;\n    }\n</style>\n<table border=\"1\" class=\"dataframe\">\n  <thead>\n    <tr style=\"text-align: right;\">\n      <th></th>\n      <th>Measuring</th>\n      <th>Plating</th>\n      <th>Smoking</th>\n      <th>Toasting</th>\n      <th>Microwaving</th>\n      <th>Air Frying</th>\n      <th>Double Boiler</th>\n      <th>Bain Marie</th>\n      <th>Reducing</th>\n      <th>Water Bathing</th>\n      <th>...</th>\n      <th>Seasoning</th>\n      <th>Salting</th>\n      <th>Slicing</th>\n      <th>Chopping Fruits</th>\n      <th>Chopping Mushroom</th>\n      <th>Chopping Herbs</th>\n      <th>Mincing</th>\n      <th>Batonnet</th>\n      <th>Dicing</th>\n      <th>Roughly Chopping</th>\n    </tr>\n    <tr>\n      <th>method_id</th>\n      <th></th>\n      <th></th>\n      <th></th>\n      <th></th>\n      <th></th>\n      <th></th>\n      <th></th>\n      <th></th>\n      <th></th>\n      <th></th>\n      <th></th>\n      <th></th>\n      <th></th>\n      <th></th>\n      <th></th>\n      <th></th>\n      <th></th>\n      <th></th>\n      <th></th>\n      <th></th>\n      <th></th>\n    </tr>\n  </thead>\n  <tbody>\n    <tr>\n      <th>0</th>\n      <td>0</td>\n      <td>1</td>\n      <td>0</td>\n      <td>0</td>\n      <td>1</td>\n      <td>0</td>\n      <td>0</td>\n      <td>0</td>\n      <td>0</td>\n      <td>0</td>\n      <td>...</td>\n      <td>0</td>\n      <td>0</td>\n      <td>0</td>\n      <td>0</td>\n      <td>0</td>\n      <td>0</td>\n      <td>0</td>\n      <td>0</td>\n      <td>0</td>\n      <td>0</td>\n    </tr>\n    <tr>\n      <th>1</th>\n      <td>0</td>\n      <td>0</td>\n      <td>0</td>\n      <td>0</td>\n      <td>0</td>\n      <td>0</td>\n      <td>0</td>\n      <td>0</td>\n      <td>0</td>\n      <td>0</td>\n      <td>...</td>\n      <td>1</td>\n      <td>0</td>\n      <td>0</td>\n      <td>0</td>\n      <td>0</td>\n      <td>0</td>\n      <td>0</td>\n      <td>0</td>\n      <td>0</td>\n      <td>0</td>\n    </tr>\n    <tr>\n      <th>2</th>\n      <td>0</td>\n      <td>0</td>\n      <td>0</td>\n      <td>0</td>\n      <td>1</td>\n      <td>0</td>\n      <td>0</td>\n      <td>0</td>\n      <td>0</td>\n      <td>0</td>\n      <td>...</td>\n      <td>1</td>\n      <td>0</td>\n      <td>0</td>\n      <td>0</td>\n      <td>0</td>\n      <td>0</td>\n      <td>0</td>\n      <td>0</td>\n      <td>0</td>\n      <td>0</td>\n    </tr>\n  </tbody>\n</table>\n<p>3 rows × 52 columns</p>\n</div>"
     },
     "metadata": {},
     "execution_count": 8
    }
   ],
   "source": [
    "vectorized_methods = users_methods.groupby('method_id').sum()\n",
    "vectorized_methods.head(3)"
   ]
  },
  {
   "source": [
    "Joining the descriptions"
   ],
   "cell_type": "markdown",
   "metadata": {}
  },
  {
   "cell_type": "code",
   "execution_count": 9,
   "metadata": {},
   "outputs": [
    {
     "output_type": "execute_result",
     "data": {
      "text/plain": [
       "                                         description  Measuring  Plating  \\\n",
       "0  Prick the sweet potatoes two or three times wi...          0        1   \n",
       "1  To make the smoked mackerel filling, mix all t...          0        0   \n",
       "2  To make the pea and feta filling, microwave th...          0        0   \n",
       "3  To make the veggie chilli filling, put the red...          0        0   \n",
       "4  Whisk the egg whites in a clean large bowl usi...          0        0   \n",
       "\n",
       "   Smoking  Toasting  Microwaving  Air Frying  Double Boiler  Bain Marie  \\\n",
       "0        0         0            1           0              0           0   \n",
       "1        0         0            0           0              0           0   \n",
       "2        0         0            1           0              0           0   \n",
       "3        0         0            1           0              0           0   \n",
       "4        0         0            0           0              0           0   \n",
       "\n",
       "   Reducing  ...  Seasoning  Salting  Slicing  Chopping Fruits  \\\n",
       "0         0  ...          0        0        0                0   \n",
       "1         0  ...          1        0        0                0   \n",
       "2         0  ...          1        0        0                0   \n",
       "3         0  ...          1        0        0                0   \n",
       "4         0  ...          0        0        0                0   \n",
       "\n",
       "   Chopping Mushroom  Chopping Herbs  Mincing  Batonnet  Dicing  \\\n",
       "0                  0               0        0         0       0   \n",
       "1                  0               0        0         0       0   \n",
       "2                  0               0        0         0       0   \n",
       "3                  0               0        0         0       0   \n",
       "4                  0               0        0         0       0   \n",
       "\n",
       "   Roughly Chopping  \n",
       "0                 0  \n",
       "1                 0  \n",
       "2                 0  \n",
       "3                 0  \n",
       "4                 0  \n",
       "\n",
       "[5 rows x 53 columns]"
      ],
      "text/html": "<div>\n<style scoped>\n    .dataframe tbody tr th:only-of-type {\n        vertical-align: middle;\n    }\n\n    .dataframe tbody tr th {\n        vertical-align: top;\n    }\n\n    .dataframe thead th {\n        text-align: right;\n    }\n</style>\n<table border=\"1\" class=\"dataframe\">\n  <thead>\n    <tr style=\"text-align: right;\">\n      <th></th>\n      <th>description</th>\n      <th>Measuring</th>\n      <th>Plating</th>\n      <th>Smoking</th>\n      <th>Toasting</th>\n      <th>Microwaving</th>\n      <th>Air Frying</th>\n      <th>Double Boiler</th>\n      <th>Bain Marie</th>\n      <th>Reducing</th>\n      <th>...</th>\n      <th>Seasoning</th>\n      <th>Salting</th>\n      <th>Slicing</th>\n      <th>Chopping Fruits</th>\n      <th>Chopping Mushroom</th>\n      <th>Chopping Herbs</th>\n      <th>Mincing</th>\n      <th>Batonnet</th>\n      <th>Dicing</th>\n      <th>Roughly Chopping</th>\n    </tr>\n  </thead>\n  <tbody>\n    <tr>\n      <th>0</th>\n      <td>Prick the sweet potatoes two or three times wi...</td>\n      <td>0</td>\n      <td>1</td>\n      <td>0</td>\n      <td>0</td>\n      <td>1</td>\n      <td>0</td>\n      <td>0</td>\n      <td>0</td>\n      <td>0</td>\n      <td>...</td>\n      <td>0</td>\n      <td>0</td>\n      <td>0</td>\n      <td>0</td>\n      <td>0</td>\n      <td>0</td>\n      <td>0</td>\n      <td>0</td>\n      <td>0</td>\n      <td>0</td>\n    </tr>\n    <tr>\n      <th>1</th>\n      <td>To make the smoked mackerel filling, mix all t...</td>\n      <td>0</td>\n      <td>0</td>\n      <td>0</td>\n      <td>0</td>\n      <td>0</td>\n      <td>0</td>\n      <td>0</td>\n      <td>0</td>\n      <td>0</td>\n      <td>...</td>\n      <td>1</td>\n      <td>0</td>\n      <td>0</td>\n      <td>0</td>\n      <td>0</td>\n      <td>0</td>\n      <td>0</td>\n      <td>0</td>\n      <td>0</td>\n      <td>0</td>\n    </tr>\n    <tr>\n      <th>2</th>\n      <td>To make the pea and feta filling, microwave th...</td>\n      <td>0</td>\n      <td>0</td>\n      <td>0</td>\n      <td>0</td>\n      <td>1</td>\n      <td>0</td>\n      <td>0</td>\n      <td>0</td>\n      <td>0</td>\n      <td>...</td>\n      <td>1</td>\n      <td>0</td>\n      <td>0</td>\n      <td>0</td>\n      <td>0</td>\n      <td>0</td>\n      <td>0</td>\n      <td>0</td>\n      <td>0</td>\n      <td>0</td>\n    </tr>\n    <tr>\n      <th>3</th>\n      <td>To make the veggie chilli filling, put the red...</td>\n      <td>0</td>\n      <td>0</td>\n      <td>0</td>\n      <td>0</td>\n      <td>1</td>\n      <td>0</td>\n      <td>0</td>\n      <td>0</td>\n      <td>0</td>\n      <td>...</td>\n      <td>1</td>\n      <td>0</td>\n      <td>0</td>\n      <td>0</td>\n      <td>0</td>\n      <td>0</td>\n      <td>0</td>\n      <td>0</td>\n      <td>0</td>\n      <td>0</td>\n    </tr>\n    <tr>\n      <th>4</th>\n      <td>Whisk the egg whites in a clean large bowl usi...</td>\n      <td>0</td>\n      <td>0</td>\n      <td>0</td>\n      <td>0</td>\n      <td>0</td>\n      <td>0</td>\n      <td>0</td>\n      <td>0</td>\n      <td>0</td>\n      <td>...</td>\n      <td>0</td>\n      <td>0</td>\n      <td>0</td>\n      <td>0</td>\n      <td>0</td>\n      <td>0</td>\n      <td>0</td>\n      <td>0</td>\n      <td>0</td>\n      <td>0</td>\n    </tr>\n  </tbody>\n</table>\n<p>5 rows × 53 columns</p>\n</div>"
     },
     "metadata": {},
     "execution_count": 9
    }
   ],
   "source": [
    "classified_methods = pd.concat([description_by_method_id, vectorized_methods], axis='columns').reset_index(drop=True)\n",
    "classified_methods.head(5)"
   ]
  },
  {
   "source": [
    "Listing the methods"
   ],
   "cell_type": "markdown",
   "metadata": {}
  },
  {
   "cell_type": "code",
   "execution_count": 10,
   "metadata": {},
   "outputs": [
    {
     "output_type": "execute_result",
     "data": {
      "text/plain": [
       "['Measuring',\n",
       " 'Plating',\n",
       " 'Smoking',\n",
       " 'Toasting',\n",
       " 'Microwaving',\n",
       " 'Air Frying',\n",
       " 'Double Boiler',\n",
       " 'Bain Marie',\n",
       " 'Reducing',\n",
       " 'Water Bathing',\n",
       " 'Deglazing',\n",
       " 'Caramelising',\n",
       " 'Poaching',\n",
       " 'Simmering',\n",
       " 'Boiling',\n",
       " 'Steaming',\n",
       " 'Stir Frying',\n",
       " 'Deep Frying',\n",
       " 'Flambing',\n",
       " 'Braising',\n",
       " 'Searing',\n",
       " 'Sauteeing',\n",
       " 'Grilling',\n",
       " 'Pan Frying',\n",
       " 'Grating',\n",
       " 'Baking',\n",
       " 'Roasting',\n",
       " 'Squeezing',\n",
       " 'Mashing',\n",
       " 'Rehidrating',\n",
       " 'Drying',\n",
       " 'Kneading',\n",
       " 'Tenderizing',\n",
       " 'Whisking',\n",
       " 'Mixing',\n",
       " 'Blending',\n",
       " 'Refrigerating',\n",
       " 'Pickling',\n",
       " 'Curing',\n",
       " 'Freezing',\n",
       " 'Infusing',\n",
       " 'Marinating',\n",
       " 'Seasoning',\n",
       " 'Salting',\n",
       " 'Slicing',\n",
       " 'Chopping Fruits',\n",
       " 'Chopping Mushroom',\n",
       " 'Chopping Herbs',\n",
       " 'Mincing',\n",
       " 'Batonnet',\n",
       " 'Dicing',\n",
       " 'Roughly Chopping']"
      ]
     },
     "metadata": {},
     "execution_count": 10
    }
   ],
   "source": [
    "techniques = list(classified_methods.columns[1:])\n",
    "techniques"
   ]
  },
  {
   "source": [
    "joining certain columns"
   ],
   "cell_type": "markdown",
   "metadata": {}
  },
  {
   "cell_type": "code",
   "execution_count": 11,
   "metadata": {},
   "outputs": [
    {
     "output_type": "execute_result",
     "data": {
      "text/plain": [
       "['Salting', 'Seasoning']"
      ]
     },
     "metadata": {},
     "execution_count": 11
    }
   ],
   "source": [
    "joined_columns = {\n",
    "    'Seasoning+': ['Salting', 'Seasoning'],\n",
    "    'Pan Frying+': ['Pan Frying', 'Stir Frying', 'Grilling', 'Sauteeing'],\n",
    "    'Boiling+': ['Boiling', 'Simmering', 'Reducing'],\n",
    "    'Chopping+': ['Roughly Chopping', 'Slicing', 'Chopping Fruits', 'Chopping Mushroom', 'Chopping Herbs', 'Mincing', 'Batonnet', 'Dicing'],\n",
    "}\n",
    "\n",
    "\n",
    "joined_columns[list(joined_columns.keys())[0]]"
   ]
  },
  {
   "cell_type": "code",
   "execution_count": 12,
   "metadata": {},
   "outputs": [
    {
     "output_type": "execute_result",
     "data": {
      "text/plain": [
       "                                         description  Measuring  Plating  \\\n",
       "0  Prick the sweet potatoes two or three times wi...          0        1   \n",
       "1  To make the smoked mackerel filling, mix all t...          0        0   \n",
       "2  To make the pea and feta filling, microwave th...          0        0   \n",
       "3  To make the veggie chilli filling, put the red...          0        0   \n",
       "4  Whisk the egg whites in a clean large bowl usi...          0        0   \n",
       "\n",
       "   Smoking  Toasting  Microwaving  Air Frying  Double Boiler  Bain Marie  \\\n",
       "0        0         0            1           0              0           0   \n",
       "1        0         0            0           0              0           0   \n",
       "2        0         0            1           0              0           0   \n",
       "3        0         0            1           0              0           0   \n",
       "4        0         0            0           0              0           0   \n",
       "\n",
       "   Water Bathing  ...  Refrigerating  Pickling  Curing  Freezing  Infusing  \\\n",
       "0              0  ...              0         0       0         0         0   \n",
       "1              0  ...              0         0       0         0         0   \n",
       "2              0  ...              0         0       0         0         0   \n",
       "3              0  ...              0         0       0         0         0   \n",
       "4              0  ...              0         0       0         0         0   \n",
       "\n",
       "   Marinating  Seasoning+  Pan Frying+  Boiling+  Chopping+  \n",
       "0           0           0            0         0          0  \n",
       "1           0           1            0         0          0  \n",
       "2           0           1            0         0          0  \n",
       "3           0           1            0         0          0  \n",
       "4           0           0            0         0          0  \n",
       "\n",
       "[5 rows x 40 columns]"
      ],
      "text/html": "<div>\n<style scoped>\n    .dataframe tbody tr th:only-of-type {\n        vertical-align: middle;\n    }\n\n    .dataframe tbody tr th {\n        vertical-align: top;\n    }\n\n    .dataframe thead th {\n        text-align: right;\n    }\n</style>\n<table border=\"1\" class=\"dataframe\">\n  <thead>\n    <tr style=\"text-align: right;\">\n      <th></th>\n      <th>description</th>\n      <th>Measuring</th>\n      <th>Plating</th>\n      <th>Smoking</th>\n      <th>Toasting</th>\n      <th>Microwaving</th>\n      <th>Air Frying</th>\n      <th>Double Boiler</th>\n      <th>Bain Marie</th>\n      <th>Water Bathing</th>\n      <th>...</th>\n      <th>Refrigerating</th>\n      <th>Pickling</th>\n      <th>Curing</th>\n      <th>Freezing</th>\n      <th>Infusing</th>\n      <th>Marinating</th>\n      <th>Seasoning+</th>\n      <th>Pan Frying+</th>\n      <th>Boiling+</th>\n      <th>Chopping+</th>\n    </tr>\n  </thead>\n  <tbody>\n    <tr>\n      <th>0</th>\n      <td>Prick the sweet potatoes two or three times wi...</td>\n      <td>0</td>\n      <td>1</td>\n      <td>0</td>\n      <td>0</td>\n      <td>1</td>\n      <td>0</td>\n      <td>0</td>\n      <td>0</td>\n      <td>0</td>\n      <td>...</td>\n      <td>0</td>\n      <td>0</td>\n      <td>0</td>\n      <td>0</td>\n      <td>0</td>\n      <td>0</td>\n      <td>0</td>\n      <td>0</td>\n      <td>0</td>\n      <td>0</td>\n    </tr>\n    <tr>\n      <th>1</th>\n      <td>To make the smoked mackerel filling, mix all t...</td>\n      <td>0</td>\n      <td>0</td>\n      <td>0</td>\n      <td>0</td>\n      <td>0</td>\n      <td>0</td>\n      <td>0</td>\n      <td>0</td>\n      <td>0</td>\n      <td>...</td>\n      <td>0</td>\n      <td>0</td>\n      <td>0</td>\n      <td>0</td>\n      <td>0</td>\n      <td>0</td>\n      <td>1</td>\n      <td>0</td>\n      <td>0</td>\n      <td>0</td>\n    </tr>\n    <tr>\n      <th>2</th>\n      <td>To make the pea and feta filling, microwave th...</td>\n      <td>0</td>\n      <td>0</td>\n      <td>0</td>\n      <td>0</td>\n      <td>1</td>\n      <td>0</td>\n      <td>0</td>\n      <td>0</td>\n      <td>0</td>\n      <td>...</td>\n      <td>0</td>\n      <td>0</td>\n      <td>0</td>\n      <td>0</td>\n      <td>0</td>\n      <td>0</td>\n      <td>1</td>\n      <td>0</td>\n      <td>0</td>\n      <td>0</td>\n    </tr>\n    <tr>\n      <th>3</th>\n      <td>To make the veggie chilli filling, put the red...</td>\n      <td>0</td>\n      <td>0</td>\n      <td>0</td>\n      <td>0</td>\n      <td>1</td>\n      <td>0</td>\n      <td>0</td>\n      <td>0</td>\n      <td>0</td>\n      <td>...</td>\n      <td>0</td>\n      <td>0</td>\n      <td>0</td>\n      <td>0</td>\n      <td>0</td>\n      <td>0</td>\n      <td>1</td>\n      <td>0</td>\n      <td>0</td>\n      <td>0</td>\n    </tr>\n    <tr>\n      <th>4</th>\n      <td>Whisk the egg whites in a clean large bowl usi...</td>\n      <td>0</td>\n      <td>0</td>\n      <td>0</td>\n      <td>0</td>\n      <td>0</td>\n      <td>0</td>\n      <td>0</td>\n      <td>0</td>\n      <td>0</td>\n      <td>...</td>\n      <td>0</td>\n      <td>0</td>\n      <td>0</td>\n      <td>0</td>\n      <td>0</td>\n      <td>0</td>\n      <td>0</td>\n      <td>0</td>\n      <td>0</td>\n      <td>0</td>\n    </tr>\n  </tbody>\n</table>\n<p>5 rows × 40 columns</p>\n</div>"
     },
     "metadata": {},
     "execution_count": 12
    }
   ],
   "source": [
    "for key in list(joined_columns.keys()):\n",
    "    col = joined_columns[key]\n",
    "    classified_methods[key] = classified_methods.loc[:, col].sum(axis=1)\n",
    "    classified_methods.drop(columns=col, inplace=True)\n",
    "classified_methods.head()"
   ]
  },
  {
   "source": [
    "deleting unused columns"
   ],
   "cell_type": "markdown",
   "metadata": {}
  },
  {
   "cell_type": "code",
   "execution_count": 13,
   "metadata": {},
   "outputs": [
    {
     "output_type": "execute_result",
     "data": {
      "text/plain": [
       "                                         description  Plating  Microwaving  \\\n",
       "0  Prick the sweet potatoes two or three times wi...        1            1   \n",
       "1  To make the smoked mackerel filling, mix all t...        0            0   \n",
       "2  To make the pea and feta filling, microwave th...        0            1   \n",
       "3  To make the veggie chilli filling, put the red...        0            1   \n",
       "4  Whisk the egg whites in a clean large bowl usi...        0            0   \n",
       "\n",
       "   Bain Marie  Grating  Baking  Roasting  Squeezing  Mashing  Kneading  \\\n",
       "0           0        0       0         0          0        0         0   \n",
       "1           0        0       0         0          0        0         0   \n",
       "2           0        0       0         0          0        1         0   \n",
       "3           0        0       0         0          0        0         0   \n",
       "4           0        0       0         0          0        0         0   \n",
       "\n",
       "   Whisking  Mixing  Blending  Refrigerating  Marinating  Seasoning+  \\\n",
       "0         0       0         0              0           0           0   \n",
       "1         0       1         0              0           0           1   \n",
       "2         0       1         0              0           0           1   \n",
       "3         0       1         0              0           0           1   \n",
       "4         1       0         0              0           0           0   \n",
       "\n",
       "   Pan Frying+  Boiling+  Chopping+  \n",
       "0            0         0          0  \n",
       "1            0         0          0  \n",
       "2            0         0          0  \n",
       "3            0         0          0  \n",
       "4            0         0          0  "
      ],
      "text/html": "<div>\n<style scoped>\n    .dataframe tbody tr th:only-of-type {\n        vertical-align: middle;\n    }\n\n    .dataframe tbody tr th {\n        vertical-align: top;\n    }\n\n    .dataframe thead th {\n        text-align: right;\n    }\n</style>\n<table border=\"1\" class=\"dataframe\">\n  <thead>\n    <tr style=\"text-align: right;\">\n      <th></th>\n      <th>description</th>\n      <th>Plating</th>\n      <th>Microwaving</th>\n      <th>Bain Marie</th>\n      <th>Grating</th>\n      <th>Baking</th>\n      <th>Roasting</th>\n      <th>Squeezing</th>\n      <th>Mashing</th>\n      <th>Kneading</th>\n      <th>Whisking</th>\n      <th>Mixing</th>\n      <th>Blending</th>\n      <th>Refrigerating</th>\n      <th>Marinating</th>\n      <th>Seasoning+</th>\n      <th>Pan Frying+</th>\n      <th>Boiling+</th>\n      <th>Chopping+</th>\n    </tr>\n  </thead>\n  <tbody>\n    <tr>\n      <th>0</th>\n      <td>Prick the sweet potatoes two or three times wi...</td>\n      <td>1</td>\n      <td>1</td>\n      <td>0</td>\n      <td>0</td>\n      <td>0</td>\n      <td>0</td>\n      <td>0</td>\n      <td>0</td>\n      <td>0</td>\n      <td>0</td>\n      <td>0</td>\n      <td>0</td>\n      <td>0</td>\n      <td>0</td>\n      <td>0</td>\n      <td>0</td>\n      <td>0</td>\n      <td>0</td>\n    </tr>\n    <tr>\n      <th>1</th>\n      <td>To make the smoked mackerel filling, mix all t...</td>\n      <td>0</td>\n      <td>0</td>\n      <td>0</td>\n      <td>0</td>\n      <td>0</td>\n      <td>0</td>\n      <td>0</td>\n      <td>0</td>\n      <td>0</td>\n      <td>0</td>\n      <td>1</td>\n      <td>0</td>\n      <td>0</td>\n      <td>0</td>\n      <td>1</td>\n      <td>0</td>\n      <td>0</td>\n      <td>0</td>\n    </tr>\n    <tr>\n      <th>2</th>\n      <td>To make the pea and feta filling, microwave th...</td>\n      <td>0</td>\n      <td>1</td>\n      <td>0</td>\n      <td>0</td>\n      <td>0</td>\n      <td>0</td>\n      <td>0</td>\n      <td>1</td>\n      <td>0</td>\n      <td>0</td>\n      <td>1</td>\n      <td>0</td>\n      <td>0</td>\n      <td>0</td>\n      <td>1</td>\n      <td>0</td>\n      <td>0</td>\n      <td>0</td>\n    </tr>\n    <tr>\n      <th>3</th>\n      <td>To make the veggie chilli filling, put the red...</td>\n      <td>0</td>\n      <td>1</td>\n      <td>0</td>\n      <td>0</td>\n      <td>0</td>\n      <td>0</td>\n      <td>0</td>\n      <td>0</td>\n      <td>0</td>\n      <td>0</td>\n      <td>1</td>\n      <td>0</td>\n      <td>0</td>\n      <td>0</td>\n      <td>1</td>\n      <td>0</td>\n      <td>0</td>\n      <td>0</td>\n    </tr>\n    <tr>\n      <th>4</th>\n      <td>Whisk the egg whites in a clean large bowl usi...</td>\n      <td>0</td>\n      <td>0</td>\n      <td>0</td>\n      <td>0</td>\n      <td>0</td>\n      <td>0</td>\n      <td>0</td>\n      <td>0</td>\n      <td>0</td>\n      <td>1</td>\n      <td>0</td>\n      <td>0</td>\n      <td>0</td>\n      <td>0</td>\n      <td>0</td>\n      <td>0</td>\n      <td>0</td>\n      <td>0</td>\n    </tr>\n  </tbody>\n</table>\n</div>"
     },
     "metadata": {},
     "execution_count": 13
    }
   ],
   "source": [
    "for column in classified_methods.columns:\n",
    "    if set(classified_methods[column]) == {0}:\n",
    "        classified_methods.drop(columns=[column], inplace=True)\n",
    "classified_methods.head()"
   ]
  },
  {
   "source": [
    "Fixing anomalies in the table"
   ],
   "cell_type": "markdown",
   "metadata": {}
  },
  {
   "cell_type": "code",
   "execution_count": 14,
   "metadata": {},
   "outputs": [],
   "source": [
    "#checking for anomalies (class > 1 or <0)\n",
    "for column in classified_methods.columns[1:]:\n",
    "    classified_methods.loc[classified_methods[column] > 1, column] = 1\n",
    "    classified_methods.loc[classified_methods[column] < 0, column] = 0\n"
   ]
  },
  {
   "source": [
    "classified_methods.head()"
   ],
   "cell_type": "code",
   "metadata": {},
   "execution_count": 15,
   "outputs": [
    {
     "output_type": "execute_result",
     "data": {
      "text/plain": [
       "                                         description  Plating  Microwaving  \\\n",
       "0  Prick the sweet potatoes two or three times wi...        1            1   \n",
       "1  To make the smoked mackerel filling, mix all t...        0            0   \n",
       "2  To make the pea and feta filling, microwave th...        0            1   \n",
       "3  To make the veggie chilli filling, put the red...        0            1   \n",
       "4  Whisk the egg whites in a clean large bowl usi...        0            0   \n",
       "\n",
       "   Bain Marie  Grating  Baking  Roasting  Squeezing  Mashing  Kneading  \\\n",
       "0           0        0       0         0          0        0         0   \n",
       "1           0        0       0         0          0        0         0   \n",
       "2           0        0       0         0          0        1         0   \n",
       "3           0        0       0         0          0        0         0   \n",
       "4           0        0       0         0          0        0         0   \n",
       "\n",
       "   Whisking  Mixing  Blending  Refrigerating  Marinating  Seasoning+  \\\n",
       "0         0       0         0              0           0           0   \n",
       "1         0       1         0              0           0           1   \n",
       "2         0       1         0              0           0           1   \n",
       "3         0       1         0              0           0           1   \n",
       "4         1       0         0              0           0           0   \n",
       "\n",
       "   Pan Frying+  Boiling+  Chopping+  \n",
       "0            0         0          0  \n",
       "1            0         0          0  \n",
       "2            0         0          0  \n",
       "3            0         0          0  \n",
       "4            0         0          0  "
      ],
      "text/html": "<div>\n<style scoped>\n    .dataframe tbody tr th:only-of-type {\n        vertical-align: middle;\n    }\n\n    .dataframe tbody tr th {\n        vertical-align: top;\n    }\n\n    .dataframe thead th {\n        text-align: right;\n    }\n</style>\n<table border=\"1\" class=\"dataframe\">\n  <thead>\n    <tr style=\"text-align: right;\">\n      <th></th>\n      <th>description</th>\n      <th>Plating</th>\n      <th>Microwaving</th>\n      <th>Bain Marie</th>\n      <th>Grating</th>\n      <th>Baking</th>\n      <th>Roasting</th>\n      <th>Squeezing</th>\n      <th>Mashing</th>\n      <th>Kneading</th>\n      <th>Whisking</th>\n      <th>Mixing</th>\n      <th>Blending</th>\n      <th>Refrigerating</th>\n      <th>Marinating</th>\n      <th>Seasoning+</th>\n      <th>Pan Frying+</th>\n      <th>Boiling+</th>\n      <th>Chopping+</th>\n    </tr>\n  </thead>\n  <tbody>\n    <tr>\n      <th>0</th>\n      <td>Prick the sweet potatoes two or three times wi...</td>\n      <td>1</td>\n      <td>1</td>\n      <td>0</td>\n      <td>0</td>\n      <td>0</td>\n      <td>0</td>\n      <td>0</td>\n      <td>0</td>\n      <td>0</td>\n      <td>0</td>\n      <td>0</td>\n      <td>0</td>\n      <td>0</td>\n      <td>0</td>\n      <td>0</td>\n      <td>0</td>\n      <td>0</td>\n      <td>0</td>\n    </tr>\n    <tr>\n      <th>1</th>\n      <td>To make the smoked mackerel filling, mix all t...</td>\n      <td>0</td>\n      <td>0</td>\n      <td>0</td>\n      <td>0</td>\n      <td>0</td>\n      <td>0</td>\n      <td>0</td>\n      <td>0</td>\n      <td>0</td>\n      <td>0</td>\n      <td>1</td>\n      <td>0</td>\n      <td>0</td>\n      <td>0</td>\n      <td>1</td>\n      <td>0</td>\n      <td>0</td>\n      <td>0</td>\n    </tr>\n    <tr>\n      <th>2</th>\n      <td>To make the pea and feta filling, microwave th...</td>\n      <td>0</td>\n      <td>1</td>\n      <td>0</td>\n      <td>0</td>\n      <td>0</td>\n      <td>0</td>\n      <td>0</td>\n      <td>1</td>\n      <td>0</td>\n      <td>0</td>\n      <td>1</td>\n      <td>0</td>\n      <td>0</td>\n      <td>0</td>\n      <td>1</td>\n      <td>0</td>\n      <td>0</td>\n      <td>0</td>\n    </tr>\n    <tr>\n      <th>3</th>\n      <td>To make the veggie chilli filling, put the red...</td>\n      <td>0</td>\n      <td>1</td>\n      <td>0</td>\n      <td>0</td>\n      <td>0</td>\n      <td>0</td>\n      <td>0</td>\n      <td>0</td>\n      <td>0</td>\n      <td>0</td>\n      <td>1</td>\n      <td>0</td>\n      <td>0</td>\n      <td>0</td>\n      <td>1</td>\n      <td>0</td>\n      <td>0</td>\n      <td>0</td>\n    </tr>\n    <tr>\n      <th>4</th>\n      <td>Whisk the egg whites in a clean large bowl usi...</td>\n      <td>0</td>\n      <td>0</td>\n      <td>0</td>\n      <td>0</td>\n      <td>0</td>\n      <td>0</td>\n      <td>0</td>\n      <td>0</td>\n      <td>0</td>\n      <td>1</td>\n      <td>0</td>\n      <td>0</td>\n      <td>0</td>\n      <td>0</td>\n      <td>0</td>\n      <td>0</td>\n      <td>0</td>\n      <td>0</td>\n    </tr>\n  </tbody>\n</table>\n</div>"
     },
     "metadata": {},
     "execution_count": 15
    }
   ]
  },
  {
   "source": [
    "Separating data in train and testing"
   ],
   "cell_type": "markdown",
   "metadata": {}
  },
  {
   "cell_type": "code",
   "execution_count": 16,
   "metadata": {},
   "outputs": [],
   "source": [
    "from sklearn.model_selection import train_test_split"
   ]
  },
  {
   "cell_type": "code",
   "execution_count": 17,
   "metadata": {},
   "outputs": [],
   "source": [
    "df_train, df_test = train_test_split(classified_methods, test_size=0.2, random_state=42)"
   ]
  },
  {
   "cell_type": "code",
   "execution_count": 18,
   "metadata": {},
   "outputs": [
    {
     "output_type": "execute_result",
     "data": {
      "text/plain": [
       "                                          description  Plating  Microwaving  \\\n",
       "30  Spread the tomato mixture over the pizza bases...        0            0   \n",
       "0   Prick the sweet potatoes two or three times wi...        1            1   \n",
       "22  For the pastry, place the flour, sugar and lem...        0            0   \n",
       "31  Scatter with rocket or basil and serve immedia...        1            0   \n",
       "18  For the base, crush the gingernuts until they ...        0            0   \n",
       "28  Prick one pizza base a few times with a fork. ...        0            0   \n",
       "10  In a large bowl, whisk the egg yolks, vanilla ...        0            0   \n",
       "70  Meanwhile, bring a saucepan of lightly salted ...        0            0   \n",
       "4   Whisk the egg whites in a clean large bowl usi...        0            0   \n",
       "12  Fill the tins equally with the mixture and bak...        0            0   \n",
       "49  On a lightly floured surface, knead the mixtur...        0            0   \n",
       "33  Measure all the ingredients for the marinade t...        0            0   \n",
       "67  Serve the vegetables and top with the seasoning.         1            0   \n",
       "35  For the marinade, heat a small frying pan, onc...        0            0   \n",
       "68  Place a fish fillet, skin-side up, in the midd...        0            0   \n",
       "45  Heat the oil in a wok over a high heat. Add th...        0            0   \n",
       "\n",
       "    Bain Marie  Grating  Baking  Roasting  Squeezing  Mashing  Kneading  \\\n",
       "30           0        1       0         0          0        0         0   \n",
       "0            0        0       0         0          0        0         0   \n",
       "22           0        0       0         0          0        0         1   \n",
       "31           0        0       0         0          0        0         0   \n",
       "18           0        0       0         0          0        0         0   \n",
       "28           0        0       1         0          0        0         0   \n",
       "10           0        0       0         0          0        0         0   \n",
       "70           0        0       0         0          1        0         0   \n",
       "4            0        0       0         0          0        0         0   \n",
       "12           0        0       1         0          0        0         0   \n",
       "49           0        0       1         0          0        0         1   \n",
       "33           0        0       0         0          0        0         0   \n",
       "67           0        0       0         0          0        0         0   \n",
       "35           0        0       0         0          0        0         0   \n",
       "68           0        0       0         0          0        0         0   \n",
       "45           0        0       0         0          0        0         0   \n",
       "\n",
       "    Whisking  Mixing  Blending  Refrigerating  Marinating  Seasoning+  \\\n",
       "30         0       0         0              0           0           1   \n",
       "0          0       0         0              0           0           0   \n",
       "22         0       1         0              0           0           0   \n",
       "31         0       0         0              0           0           1   \n",
       "18         0       1         1              0           0           0   \n",
       "28         0       0         0              0           0           0   \n",
       "10         1       0         0              0           0           0   \n",
       "70         0       0         0              0           0           1   \n",
       "4          1       0         0              0           0           0   \n",
       "12         0       0         0              0           0           0   \n",
       "49         0       0         0              0           0           0   \n",
       "33         0       0         0              1           1           0   \n",
       "67         0       0         0              0           0           1   \n",
       "35         0       0         1              0           0           0   \n",
       "68         0       0         0              0           0           1   \n",
       "45         0       0         0              0           0           0   \n",
       "\n",
       "    Pan Frying+  Boiling+  Chopping+  \n",
       "30            0         0          0  \n",
       "0             0         0          0  \n",
       "22            0         0          0  \n",
       "31            0         0          0  \n",
       "18            0         0          0  \n",
       "28            0         0          0  \n",
       "10            0         0          0  \n",
       "70            0         1          0  \n",
       "4             0         0          0  \n",
       "12            0         0          0  \n",
       "49            0         0          0  \n",
       "33            0         0          0  \n",
       "67            0         0          0  \n",
       "35            1         0          0  \n",
       "68            0         0          0  \n",
       "45            1         0          0  "
      ],
      "text/html": "<div>\n<style scoped>\n    .dataframe tbody tr th:only-of-type {\n        vertical-align: middle;\n    }\n\n    .dataframe tbody tr th {\n        vertical-align: top;\n    }\n\n    .dataframe thead th {\n        text-align: right;\n    }\n</style>\n<table border=\"1\" class=\"dataframe\">\n  <thead>\n    <tr style=\"text-align: right;\">\n      <th></th>\n      <th>description</th>\n      <th>Plating</th>\n      <th>Microwaving</th>\n      <th>Bain Marie</th>\n      <th>Grating</th>\n      <th>Baking</th>\n      <th>Roasting</th>\n      <th>Squeezing</th>\n      <th>Mashing</th>\n      <th>Kneading</th>\n      <th>Whisking</th>\n      <th>Mixing</th>\n      <th>Blending</th>\n      <th>Refrigerating</th>\n      <th>Marinating</th>\n      <th>Seasoning+</th>\n      <th>Pan Frying+</th>\n      <th>Boiling+</th>\n      <th>Chopping+</th>\n    </tr>\n  </thead>\n  <tbody>\n    <tr>\n      <th>30</th>\n      <td>Spread the tomato mixture over the pizza bases...</td>\n      <td>0</td>\n      <td>0</td>\n      <td>0</td>\n      <td>1</td>\n      <td>0</td>\n      <td>0</td>\n      <td>0</td>\n      <td>0</td>\n      <td>0</td>\n      <td>0</td>\n      <td>0</td>\n      <td>0</td>\n      <td>0</td>\n      <td>0</td>\n      <td>1</td>\n      <td>0</td>\n      <td>0</td>\n      <td>0</td>\n    </tr>\n    <tr>\n      <th>0</th>\n      <td>Prick the sweet potatoes two or three times wi...</td>\n      <td>1</td>\n      <td>1</td>\n      <td>0</td>\n      <td>0</td>\n      <td>0</td>\n      <td>0</td>\n      <td>0</td>\n      <td>0</td>\n      <td>0</td>\n      <td>0</td>\n      <td>0</td>\n      <td>0</td>\n      <td>0</td>\n      <td>0</td>\n      <td>0</td>\n      <td>0</td>\n      <td>0</td>\n      <td>0</td>\n    </tr>\n    <tr>\n      <th>22</th>\n      <td>For the pastry, place the flour, sugar and lem...</td>\n      <td>0</td>\n      <td>0</td>\n      <td>0</td>\n      <td>0</td>\n      <td>0</td>\n      <td>0</td>\n      <td>0</td>\n      <td>0</td>\n      <td>1</td>\n      <td>0</td>\n      <td>1</td>\n      <td>0</td>\n      <td>0</td>\n      <td>0</td>\n      <td>0</td>\n      <td>0</td>\n      <td>0</td>\n      <td>0</td>\n    </tr>\n    <tr>\n      <th>31</th>\n      <td>Scatter with rocket or basil and serve immedia...</td>\n      <td>1</td>\n      <td>0</td>\n      <td>0</td>\n      <td>0</td>\n      <td>0</td>\n      <td>0</td>\n      <td>0</td>\n      <td>0</td>\n      <td>0</td>\n      <td>0</td>\n      <td>0</td>\n      <td>0</td>\n      <td>0</td>\n      <td>0</td>\n      <td>1</td>\n      <td>0</td>\n      <td>0</td>\n      <td>0</td>\n    </tr>\n    <tr>\n      <th>18</th>\n      <td>For the base, crush the gingernuts until they ...</td>\n      <td>0</td>\n      <td>0</td>\n      <td>0</td>\n      <td>0</td>\n      <td>0</td>\n      <td>0</td>\n      <td>0</td>\n      <td>0</td>\n      <td>0</td>\n      <td>0</td>\n      <td>1</td>\n      <td>1</td>\n      <td>0</td>\n      <td>0</td>\n      <td>0</td>\n      <td>0</td>\n      <td>0</td>\n      <td>0</td>\n    </tr>\n    <tr>\n      <th>28</th>\n      <td>Prick one pizza base a few times with a fork. ...</td>\n      <td>0</td>\n      <td>0</td>\n      <td>0</td>\n      <td>0</td>\n      <td>1</td>\n      <td>0</td>\n      <td>0</td>\n      <td>0</td>\n      <td>0</td>\n      <td>0</td>\n      <td>0</td>\n      <td>0</td>\n      <td>0</td>\n      <td>0</td>\n      <td>0</td>\n      <td>0</td>\n      <td>0</td>\n      <td>0</td>\n    </tr>\n    <tr>\n      <th>10</th>\n      <td>In a large bowl, whisk the egg yolks, vanilla ...</td>\n      <td>0</td>\n      <td>0</td>\n      <td>0</td>\n      <td>0</td>\n      <td>0</td>\n      <td>0</td>\n      <td>0</td>\n      <td>0</td>\n      <td>0</td>\n      <td>1</td>\n      <td>0</td>\n      <td>0</td>\n      <td>0</td>\n      <td>0</td>\n      <td>0</td>\n      <td>0</td>\n      <td>0</td>\n      <td>0</td>\n    </tr>\n    <tr>\n      <th>70</th>\n      <td>Meanwhile, bring a saucepan of lightly salted ...</td>\n      <td>0</td>\n      <td>0</td>\n      <td>0</td>\n      <td>0</td>\n      <td>0</td>\n      <td>0</td>\n      <td>1</td>\n      <td>0</td>\n      <td>0</td>\n      <td>0</td>\n      <td>0</td>\n      <td>0</td>\n      <td>0</td>\n      <td>0</td>\n      <td>1</td>\n      <td>0</td>\n      <td>1</td>\n      <td>0</td>\n    </tr>\n    <tr>\n      <th>4</th>\n      <td>Whisk the egg whites in a clean large bowl usi...</td>\n      <td>0</td>\n      <td>0</td>\n      <td>0</td>\n      <td>0</td>\n      <td>0</td>\n      <td>0</td>\n      <td>0</td>\n      <td>0</td>\n      <td>0</td>\n      <td>1</td>\n      <td>0</td>\n      <td>0</td>\n      <td>0</td>\n      <td>0</td>\n      <td>0</td>\n      <td>0</td>\n      <td>0</td>\n      <td>0</td>\n    </tr>\n    <tr>\n      <th>12</th>\n      <td>Fill the tins equally with the mixture and bak...</td>\n      <td>0</td>\n      <td>0</td>\n      <td>0</td>\n      <td>0</td>\n      <td>1</td>\n      <td>0</td>\n      <td>0</td>\n      <td>0</td>\n      <td>0</td>\n      <td>0</td>\n      <td>0</td>\n      <td>0</td>\n      <td>0</td>\n      <td>0</td>\n      <td>0</td>\n      <td>0</td>\n      <td>0</td>\n      <td>0</td>\n    </tr>\n    <tr>\n      <th>49</th>\n      <td>On a lightly floured surface, knead the mixtur...</td>\n      <td>0</td>\n      <td>0</td>\n      <td>0</td>\n      <td>0</td>\n      <td>1</td>\n      <td>0</td>\n      <td>0</td>\n      <td>0</td>\n      <td>1</td>\n      <td>0</td>\n      <td>0</td>\n      <td>0</td>\n      <td>0</td>\n      <td>0</td>\n      <td>0</td>\n      <td>0</td>\n      <td>0</td>\n      <td>0</td>\n    </tr>\n    <tr>\n      <th>33</th>\n      <td>Measure all the ingredients for the marinade t...</td>\n      <td>0</td>\n      <td>0</td>\n      <td>0</td>\n      <td>0</td>\n      <td>0</td>\n      <td>0</td>\n      <td>0</td>\n      <td>0</td>\n      <td>0</td>\n      <td>0</td>\n      <td>0</td>\n      <td>0</td>\n      <td>1</td>\n      <td>1</td>\n      <td>0</td>\n      <td>0</td>\n      <td>0</td>\n      <td>0</td>\n    </tr>\n    <tr>\n      <th>67</th>\n      <td>Serve the vegetables and top with the seasoning.</td>\n      <td>1</td>\n      <td>0</td>\n      <td>0</td>\n      <td>0</td>\n      <td>0</td>\n      <td>0</td>\n      <td>0</td>\n      <td>0</td>\n      <td>0</td>\n      <td>0</td>\n      <td>0</td>\n      <td>0</td>\n      <td>0</td>\n      <td>0</td>\n      <td>1</td>\n      <td>0</td>\n      <td>0</td>\n      <td>0</td>\n    </tr>\n    <tr>\n      <th>35</th>\n      <td>For the marinade, heat a small frying pan, onc...</td>\n      <td>0</td>\n      <td>0</td>\n      <td>0</td>\n      <td>0</td>\n      <td>0</td>\n      <td>0</td>\n      <td>0</td>\n      <td>0</td>\n      <td>0</td>\n      <td>0</td>\n      <td>0</td>\n      <td>1</td>\n      <td>0</td>\n      <td>0</td>\n      <td>0</td>\n      <td>1</td>\n      <td>0</td>\n      <td>0</td>\n    </tr>\n    <tr>\n      <th>68</th>\n      <td>Place a fish fillet, skin-side up, in the midd...</td>\n      <td>0</td>\n      <td>0</td>\n      <td>0</td>\n      <td>0</td>\n      <td>0</td>\n      <td>0</td>\n      <td>0</td>\n      <td>0</td>\n      <td>0</td>\n      <td>0</td>\n      <td>0</td>\n      <td>0</td>\n      <td>0</td>\n      <td>0</td>\n      <td>1</td>\n      <td>0</td>\n      <td>0</td>\n      <td>0</td>\n    </tr>\n    <tr>\n      <th>45</th>\n      <td>Heat the oil in a wok over a high heat. Add th...</td>\n      <td>0</td>\n      <td>0</td>\n      <td>0</td>\n      <td>0</td>\n      <td>0</td>\n      <td>0</td>\n      <td>0</td>\n      <td>0</td>\n      <td>0</td>\n      <td>0</td>\n      <td>0</td>\n      <td>0</td>\n      <td>0</td>\n      <td>0</td>\n      <td>0</td>\n      <td>1</td>\n      <td>0</td>\n      <td>0</td>\n    </tr>\n  </tbody>\n</table>\n</div>"
     },
     "metadata": {},
     "execution_count": 18
    }
   ],
   "source": [
    "df_test"
   ]
  },
  {
   "source": [
    "Pickling and csving the data frame for training use later"
   ],
   "cell_type": "markdown",
   "metadata": {}
  },
  {
   "cell_type": "code",
   "execution_count": 19,
   "metadata": {},
   "outputs": [],
   "source": [
    "classified_methods.to_pickle(os.path.join('hand_classified_methods', 'classified_methods'))\n",
    "classified_methods.to_csv(os.path.join('hand_classified_methods', 'classified_methods.csv'), index=False)\n",
    "df_train.to_csv(os.path.join('hand_classified_methods', 'methods_train.csv'), index=False)\n",
    "df_test.to_csv(os.path.join('hand_classified_methods', 'methods_test.csv'), index=False)"
   ]
  }
 ]
}