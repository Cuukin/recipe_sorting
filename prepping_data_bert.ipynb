{
 "metadata": {
  "language_info": {
   "codemirror_mode": {
    "name": "ipython",
    "version": 3
   },
   "file_extension": ".py",
   "mimetype": "text/x-python",
   "name": "python",
   "nbconvert_exporter": "python",
   "pygments_lexer": "ipython3",
   "version": "3.8.8"
  },
  "orig_nbformat": 4,
  "kernelspec": {
   "name": "python3",
   "display_name": "Python 3.8.8 64-bit ('base': conda)"
  },
  "interpreter": {
   "hash": "9c55446680d5435dcfad149676b5f9bdd40bd2288f3a0546b701a7eed2675e86"
  }
 },
 "nbformat": 4,
 "nbformat_minor": 2,
 "cells": [
  {
   "source": [
    "# Preparing training data for the BERT model"
   ],
   "cell_type": "markdown",
   "metadata": {}
  },
  {
   "cell_type": "code",
   "execution_count": 1,
   "metadata": {},
   "outputs": [],
   "source": [
    "import pandas as pd\n",
    "import sqlite3\n",
    "import os\n",
    "import spacy"
   ]
  },
  {
   "cell_type": "code",
   "execution_count": 2,
   "metadata": {},
   "outputs": [],
   "source": [
    "nlp = spacy.load(\"en_core_web_sm\")"
   ]
  },
  {
   "source": [
    "Defining user names just as in the ClassApp"
   ],
   "cell_type": "markdown",
   "metadata": {}
  },
  {
   "cell_type": "code",
   "execution_count": 3,
   "metadata": {},
   "outputs": [
    {
     "output_type": "execute_result",
     "data": {
      "text/plain": [
       "['data_GV.db',\n",
       " 'data_NA.db',\n",
       " 'data_RC.db',\n",
       " 'data_WZ.db',\n",
       " 'data_EM.db',\n",
       " 'data_FR.db',\n",
       " 'data_HC.db',\n",
       " 'data_JF.db',\n",
       " 'data_MG.db']"
      ]
     },
     "metadata": {},
     "execution_count": 3
    }
   ],
   "source": [
    "user_list = ['GV', 'NA', 'RC', 'WZ', 'EM', 'FR', 'HC', 'JF', 'MG']\n",
    "db_names = ['data_' + user + '.db' for user in user_list]\n",
    "db_names"
   ]
  },
  {
   "source": [
    "Creating paths to their .db files in the classapp_output folder"
   ],
   "cell_type": "markdown",
   "metadata": {}
  },
  {
   "cell_type": "code",
   "execution_count": 4,
   "metadata": {},
   "outputs": [
    {
     "output_type": "execute_result",
     "data": {
      "text/plain": [
       "['classapp_output\\\\data_GV.db',\n",
       " 'classapp_output\\\\data_NA.db',\n",
       " 'classapp_output\\\\data_RC.db',\n",
       " 'classapp_output\\\\data_WZ.db',\n",
       " 'classapp_output\\\\data_EM.db',\n",
       " 'classapp_output\\\\data_FR.db',\n",
       " 'classapp_output\\\\data_HC.db',\n",
       " 'classapp_output\\\\data_JF.db',\n",
       " 'classapp_output\\\\data_MG.db']"
      ]
     },
     "metadata": {},
     "execution_count": 4
    }
   ],
   "source": [
    "db_paths = [os.path.join('classapp_output', db_name) for db_name in db_names]\n",
    "db_paths"
   ]
  },
  {
   "source": [
    "Creating a list of data frames from all users"
   ],
   "cell_type": "markdown",
   "metadata": {}
  },
  {
   "cell_type": "code",
   "execution_count": 5,
   "metadata": {},
   "outputs": [],
   "source": [
    "data_frames = []\n",
    "\n",
    "sql = '''\n",
    "SELECT * FROM class_methods\n",
    "'''\n",
    "for db_path in db_paths:\n",
    "    if os.path.exists(db_path):\n",
    "        conn = sqlite3.connect(db_path)\n",
    "        data_frames.append(pd.read_sql_query(sql, conn))\n",
    "        conn.commit()\n",
    "        conn.close()\n"
   ]
  },
  {
   "source": [
    "Concatenating that list in one data frame"
   ],
   "cell_type": "markdown",
   "metadata": {}
  },
  {
   "cell_type": "code",
   "execution_count": 6,
   "metadata": {},
   "outputs": [
    {
     "output_type": "execute_result",
     "data": {
      "text/plain": [
       "  user  method_id                                        description  \\\n",
       "0   GV          1  Put the mushrooms, chard, oil, garlic, chilli,...   \n",
       "1   GV          2  Bring a large pan of salted water to the boil,...   \n",
       "2   GV          3  Add the drained pasta and chopped tomatoes to ...   \n",
       "3   GV          3  Add the drained pasta and chopped tomatoes to ...   \n",
       "4   GV          4  Toast the cumin seeds, fennel seeds and black ...   \n",
       "\n",
       "   Measuring  Plating  Smoking  Toasting  Microwaving  Air Frying  \\\n",
       "0          0        0        0         0            0           0   \n",
       "1          0        0        0         0            0           0   \n",
       "2          0        0        0         0            0           0   \n",
       "3          0        0        0         0            0           0   \n",
       "4          0        0        0         1            0           0   \n",
       "\n",
       "   Double Boiler  ...  Seasoning  Salting  Slicing  Chopping Fruits  \\\n",
       "0              0  ...          0        0        0                0   \n",
       "1              0  ...          0        0        0                0   \n",
       "2              0  ...          0        0        0                0   \n",
       "3              0  ...          0        0        0                0   \n",
       "4              0  ...          0        0        0                0   \n",
       "\n",
       "   Chopping Mushroom  Chopping Herbs  Mincing  Batonnet  Dicing  \\\n",
       "0                  0               0        0         0       0   \n",
       "1                  0               0        0         0       0   \n",
       "2                  0               0        0         0       0   \n",
       "3                  0               0        0         0       0   \n",
       "4                  0               0        0         0       0   \n",
       "\n",
       "   Roughly Chopping  \n",
       "0                 0  \n",
       "1                 0  \n",
       "2                 0  \n",
       "3                 0  \n",
       "4                 0  \n",
       "\n",
       "[5 rows x 55 columns]"
      ],
      "text/html": "<div>\n<style scoped>\n    .dataframe tbody tr th:only-of-type {\n        vertical-align: middle;\n    }\n\n    .dataframe tbody tr th {\n        vertical-align: top;\n    }\n\n    .dataframe thead th {\n        text-align: right;\n    }\n</style>\n<table border=\"1\" class=\"dataframe\">\n  <thead>\n    <tr style=\"text-align: right;\">\n      <th></th>\n      <th>user</th>\n      <th>method_id</th>\n      <th>description</th>\n      <th>Measuring</th>\n      <th>Plating</th>\n      <th>Smoking</th>\n      <th>Toasting</th>\n      <th>Microwaving</th>\n      <th>Air Frying</th>\n      <th>Double Boiler</th>\n      <th>...</th>\n      <th>Seasoning</th>\n      <th>Salting</th>\n      <th>Slicing</th>\n      <th>Chopping Fruits</th>\n      <th>Chopping Mushroom</th>\n      <th>Chopping Herbs</th>\n      <th>Mincing</th>\n      <th>Batonnet</th>\n      <th>Dicing</th>\n      <th>Roughly Chopping</th>\n    </tr>\n  </thead>\n  <tbody>\n    <tr>\n      <th>0</th>\n      <td>GV</td>\n      <td>1</td>\n      <td>Put the mushrooms, chard, oil, garlic, chilli,...</td>\n      <td>0</td>\n      <td>0</td>\n      <td>0</td>\n      <td>0</td>\n      <td>0</td>\n      <td>0</td>\n      <td>0</td>\n      <td>...</td>\n      <td>0</td>\n      <td>0</td>\n      <td>0</td>\n      <td>0</td>\n      <td>0</td>\n      <td>0</td>\n      <td>0</td>\n      <td>0</td>\n      <td>0</td>\n      <td>0</td>\n    </tr>\n    <tr>\n      <th>1</th>\n      <td>GV</td>\n      <td>2</td>\n      <td>Bring a large pan of salted water to the boil,...</td>\n      <td>0</td>\n      <td>0</td>\n      <td>0</td>\n      <td>0</td>\n      <td>0</td>\n      <td>0</td>\n      <td>0</td>\n      <td>...</td>\n      <td>0</td>\n      <td>0</td>\n      <td>0</td>\n      <td>0</td>\n      <td>0</td>\n      <td>0</td>\n      <td>0</td>\n      <td>0</td>\n      <td>0</td>\n      <td>0</td>\n    </tr>\n    <tr>\n      <th>2</th>\n      <td>GV</td>\n      <td>3</td>\n      <td>Add the drained pasta and chopped tomatoes to ...</td>\n      <td>0</td>\n      <td>0</td>\n      <td>0</td>\n      <td>0</td>\n      <td>0</td>\n      <td>0</td>\n      <td>0</td>\n      <td>...</td>\n      <td>0</td>\n      <td>0</td>\n      <td>0</td>\n      <td>0</td>\n      <td>0</td>\n      <td>0</td>\n      <td>0</td>\n      <td>0</td>\n      <td>0</td>\n      <td>0</td>\n    </tr>\n    <tr>\n      <th>3</th>\n      <td>GV</td>\n      <td>3</td>\n      <td>Add the drained pasta and chopped tomatoes to ...</td>\n      <td>0</td>\n      <td>0</td>\n      <td>0</td>\n      <td>0</td>\n      <td>0</td>\n      <td>0</td>\n      <td>0</td>\n      <td>...</td>\n      <td>0</td>\n      <td>0</td>\n      <td>0</td>\n      <td>0</td>\n      <td>0</td>\n      <td>0</td>\n      <td>0</td>\n      <td>0</td>\n      <td>0</td>\n      <td>0</td>\n    </tr>\n    <tr>\n      <th>4</th>\n      <td>GV</td>\n      <td>4</td>\n      <td>Toast the cumin seeds, fennel seeds and black ...</td>\n      <td>0</td>\n      <td>0</td>\n      <td>0</td>\n      <td>1</td>\n      <td>0</td>\n      <td>0</td>\n      <td>0</td>\n      <td>...</td>\n      <td>0</td>\n      <td>0</td>\n      <td>0</td>\n      <td>0</td>\n      <td>0</td>\n      <td>0</td>\n      <td>0</td>\n      <td>0</td>\n      <td>0</td>\n      <td>0</td>\n    </tr>\n  </tbody>\n</table>\n<p>5 rows × 55 columns</p>\n</div>"
     },
     "metadata": {},
     "execution_count": 6
    }
   ],
   "source": [
    "# concatenating\n",
    "users_methods = pd.concat(data_frames)\n",
    "users_methods.head(5)"
   ]
  },
  {
   "source": [
    "Saving description by id to later reinsertion "
   ],
   "cell_type": "markdown",
   "metadata": {}
  },
  {
   "cell_type": "code",
   "execution_count": 7,
   "metadata": {},
   "outputs": [
    {
     "output_type": "execute_result",
     "data": {
      "text/plain": [
       "                                                 description\n",
       "method_id                                                   \n",
       "1          Put the mushrooms, chard, oil, garlic, chilli,...\n",
       "2          Bring a large pan of salted water to the boil,...\n",
       "3          Add the drained pasta and chopped tomatoes to ...\n",
       "4          Toast the cumin seeds, fennel seeds and black ...\n",
       "5          Transfer to a mortar and pestle and grind to a...\n",
       "7          Combine the chickpeas, lemon juice, garlic, cu...\n",
       "8          Add more lemon juice, garlic, cumin or salt to...\n",
       "10         Put the milk, water and sugar in a small sauce...\n",
       "500        Slowly pour in around one-third of the porcini...\n",
       "501        Add the salt and pepper, taste and add a littl..."
      ],
      "text/html": "<div>\n<style scoped>\n    .dataframe tbody tr th:only-of-type {\n        vertical-align: middle;\n    }\n\n    .dataframe tbody tr th {\n        vertical-align: top;\n    }\n\n    .dataframe thead th {\n        text-align: right;\n    }\n</style>\n<table border=\"1\" class=\"dataframe\">\n  <thead>\n    <tr style=\"text-align: right;\">\n      <th></th>\n      <th>description</th>\n    </tr>\n    <tr>\n      <th>method_id</th>\n      <th></th>\n    </tr>\n  </thead>\n  <tbody>\n    <tr>\n      <th>1</th>\n      <td>Put the mushrooms, chard, oil, garlic, chilli,...</td>\n    </tr>\n    <tr>\n      <th>2</th>\n      <td>Bring a large pan of salted water to the boil,...</td>\n    </tr>\n    <tr>\n      <th>3</th>\n      <td>Add the drained pasta and chopped tomatoes to ...</td>\n    </tr>\n    <tr>\n      <th>4</th>\n      <td>Toast the cumin seeds, fennel seeds and black ...</td>\n    </tr>\n    <tr>\n      <th>5</th>\n      <td>Transfer to a mortar and pestle and grind to a...</td>\n    </tr>\n    <tr>\n      <th>7</th>\n      <td>Combine the chickpeas, lemon juice, garlic, cu...</td>\n    </tr>\n    <tr>\n      <th>8</th>\n      <td>Add more lemon juice, garlic, cumin or salt to...</td>\n    </tr>\n    <tr>\n      <th>10</th>\n      <td>Put the milk, water and sugar in a small sauce...</td>\n    </tr>\n    <tr>\n      <th>500</th>\n      <td>Slowly pour in around one-third of the porcini...</td>\n    </tr>\n    <tr>\n      <th>501</th>\n      <td>Add the salt and pepper, taste and add a littl...</td>\n    </tr>\n  </tbody>\n</table>\n</div>"
     },
     "metadata": {},
     "execution_count": 7
    }
   ],
   "source": [
    "description_by_method_id = users_methods[[\"method_id\", \"description\"]].drop_duplicates().set_index('method_id')\n",
    "description_by_method_id.head(10)"
   ]
  },
  {
   "source": [
    "Summing classifications for each value (to get multi-label classification)"
   ],
   "cell_type": "markdown",
   "metadata": {}
  },
  {
   "cell_type": "code",
   "execution_count": 8,
   "metadata": {},
   "outputs": [
    {
     "output_type": "execute_result",
     "data": {
      "text/plain": [
       "           Measuring  Plating  Smoking  Toasting  Microwaving  Air Frying  \\\n",
       "method_id                                                                   \n",
       "1                  0        0        0         0            0           0   \n",
       "2                  0        0        0         0            0           0   \n",
       "3                  0        0        0         0            0           0   \n",
       "\n",
       "           Double Boiler  Bain Marie  Reducing  Water Bathing  ...  Seasoning  \\\n",
       "method_id                                                      ...              \n",
       "1                      0           0         0              0  ...          0   \n",
       "2                      0           0         0              0  ...          0   \n",
       "3                      0           0         0              0  ...          0   \n",
       "\n",
       "           Salting  Slicing  Chopping Fruits  Chopping Mushroom  \\\n",
       "method_id                                                         \n",
       "1                0        0                0                  0   \n",
       "2                0        0                0                  0   \n",
       "3                0        0                0                  0   \n",
       "\n",
       "           Chopping Herbs  Mincing  Batonnet  Dicing  Roughly Chopping  \n",
       "method_id                                                               \n",
       "1                       0        0         0       0                 0  \n",
       "2                       0        0         0       0                 0  \n",
       "3                       0        0         0       0                 0  \n",
       "\n",
       "[3 rows x 52 columns]"
      ],
      "text/html": "<div>\n<style scoped>\n    .dataframe tbody tr th:only-of-type {\n        vertical-align: middle;\n    }\n\n    .dataframe tbody tr th {\n        vertical-align: top;\n    }\n\n    .dataframe thead th {\n        text-align: right;\n    }\n</style>\n<table border=\"1\" class=\"dataframe\">\n  <thead>\n    <tr style=\"text-align: right;\">\n      <th></th>\n      <th>Measuring</th>\n      <th>Plating</th>\n      <th>Smoking</th>\n      <th>Toasting</th>\n      <th>Microwaving</th>\n      <th>Air Frying</th>\n      <th>Double Boiler</th>\n      <th>Bain Marie</th>\n      <th>Reducing</th>\n      <th>Water Bathing</th>\n      <th>...</th>\n      <th>Seasoning</th>\n      <th>Salting</th>\n      <th>Slicing</th>\n      <th>Chopping Fruits</th>\n      <th>Chopping Mushroom</th>\n      <th>Chopping Herbs</th>\n      <th>Mincing</th>\n      <th>Batonnet</th>\n      <th>Dicing</th>\n      <th>Roughly Chopping</th>\n    </tr>\n    <tr>\n      <th>method_id</th>\n      <th></th>\n      <th></th>\n      <th></th>\n      <th></th>\n      <th></th>\n      <th></th>\n      <th></th>\n      <th></th>\n      <th></th>\n      <th></th>\n      <th></th>\n      <th></th>\n      <th></th>\n      <th></th>\n      <th></th>\n      <th></th>\n      <th></th>\n      <th></th>\n      <th></th>\n      <th></th>\n      <th></th>\n    </tr>\n  </thead>\n  <tbody>\n    <tr>\n      <th>1</th>\n      <td>0</td>\n      <td>0</td>\n      <td>0</td>\n      <td>0</td>\n      <td>0</td>\n      <td>0</td>\n      <td>0</td>\n      <td>0</td>\n      <td>0</td>\n      <td>0</td>\n      <td>...</td>\n      <td>0</td>\n      <td>0</td>\n      <td>0</td>\n      <td>0</td>\n      <td>0</td>\n      <td>0</td>\n      <td>0</td>\n      <td>0</td>\n      <td>0</td>\n      <td>0</td>\n    </tr>\n    <tr>\n      <th>2</th>\n      <td>0</td>\n      <td>0</td>\n      <td>0</td>\n      <td>0</td>\n      <td>0</td>\n      <td>0</td>\n      <td>0</td>\n      <td>0</td>\n      <td>0</td>\n      <td>0</td>\n      <td>...</td>\n      <td>0</td>\n      <td>0</td>\n      <td>0</td>\n      <td>0</td>\n      <td>0</td>\n      <td>0</td>\n      <td>0</td>\n      <td>0</td>\n      <td>0</td>\n      <td>0</td>\n    </tr>\n    <tr>\n      <th>3</th>\n      <td>0</td>\n      <td>0</td>\n      <td>0</td>\n      <td>0</td>\n      <td>0</td>\n      <td>0</td>\n      <td>0</td>\n      <td>0</td>\n      <td>0</td>\n      <td>0</td>\n      <td>...</td>\n      <td>0</td>\n      <td>0</td>\n      <td>0</td>\n      <td>0</td>\n      <td>0</td>\n      <td>0</td>\n      <td>0</td>\n      <td>0</td>\n      <td>0</td>\n      <td>0</td>\n    </tr>\n  </tbody>\n</table>\n<p>3 rows × 52 columns</p>\n</div>"
     },
     "metadata": {},
     "execution_count": 8
    }
   ],
   "source": [
    "vectorized_methods = users_methods.groupby('method_id').sum()\n",
    "vectorized_methods.head(3)"
   ]
  },
  {
   "source": [
    "Joining the descriptions"
   ],
   "cell_type": "markdown",
   "metadata": {}
  },
  {
   "cell_type": "code",
   "execution_count": 9,
   "metadata": {},
   "outputs": [
    {
     "output_type": "execute_result",
     "data": {
      "text/plain": [
       "                                         description  Measuring  Plating  \\\n",
       "0  Put the mushrooms, chard, oil, garlic, chilli,...          0        0   \n",
       "1  Bring a large pan of salted water to the boil,...          0        0   \n",
       "2  Add the drained pasta and chopped tomatoes to ...          0        0   \n",
       "3  Toast the cumin seeds, fennel seeds and black ...          0        0   \n",
       "4  Transfer to a mortar and pestle and grind to a...          0        0   \n",
       "\n",
       "   Smoking  Toasting  Microwaving  Air Frying  Double Boiler  Bain Marie  \\\n",
       "0        0         0            0           0              0           0   \n",
       "1        0         0            0           0              0           0   \n",
       "2        0         0            0           0              0           0   \n",
       "3        0         1            0           0              0           0   \n",
       "4        0         0            0           0              0           0   \n",
       "\n",
       "   Reducing  ...  Seasoning  Salting  Slicing  Chopping Fruits  \\\n",
       "0         0  ...          0        0        0                0   \n",
       "1         0  ...          0        0        0                0   \n",
       "2         0  ...          0        0        0                0   \n",
       "3         0  ...          0        0        0                0   \n",
       "4         0  ...          0        0        0                0   \n",
       "\n",
       "   Chopping Mushroom  Chopping Herbs  Mincing  Batonnet  Dicing  \\\n",
       "0                  0               0        0         0       0   \n",
       "1                  0               0        0         0       0   \n",
       "2                  0               0        0         0       0   \n",
       "3                  0               0        0         0       0   \n",
       "4                  0               0        0         0       0   \n",
       "\n",
       "   Roughly Chopping  \n",
       "0                 0  \n",
       "1                 0  \n",
       "2                 0  \n",
       "3                 0  \n",
       "4                 0  \n",
       "\n",
       "[5 rows x 53 columns]"
      ],
      "text/html": "<div>\n<style scoped>\n    .dataframe tbody tr th:only-of-type {\n        vertical-align: middle;\n    }\n\n    .dataframe tbody tr th {\n        vertical-align: top;\n    }\n\n    .dataframe thead th {\n        text-align: right;\n    }\n</style>\n<table border=\"1\" class=\"dataframe\">\n  <thead>\n    <tr style=\"text-align: right;\">\n      <th></th>\n      <th>description</th>\n      <th>Measuring</th>\n      <th>Plating</th>\n      <th>Smoking</th>\n      <th>Toasting</th>\n      <th>Microwaving</th>\n      <th>Air Frying</th>\n      <th>Double Boiler</th>\n      <th>Bain Marie</th>\n      <th>Reducing</th>\n      <th>...</th>\n      <th>Seasoning</th>\n      <th>Salting</th>\n      <th>Slicing</th>\n      <th>Chopping Fruits</th>\n      <th>Chopping Mushroom</th>\n      <th>Chopping Herbs</th>\n      <th>Mincing</th>\n      <th>Batonnet</th>\n      <th>Dicing</th>\n      <th>Roughly Chopping</th>\n    </tr>\n  </thead>\n  <tbody>\n    <tr>\n      <th>0</th>\n      <td>Put the mushrooms, chard, oil, garlic, chilli,...</td>\n      <td>0</td>\n      <td>0</td>\n      <td>0</td>\n      <td>0</td>\n      <td>0</td>\n      <td>0</td>\n      <td>0</td>\n      <td>0</td>\n      <td>0</td>\n      <td>...</td>\n      <td>0</td>\n      <td>0</td>\n      <td>0</td>\n      <td>0</td>\n      <td>0</td>\n      <td>0</td>\n      <td>0</td>\n      <td>0</td>\n      <td>0</td>\n      <td>0</td>\n    </tr>\n    <tr>\n      <th>1</th>\n      <td>Bring a large pan of salted water to the boil,...</td>\n      <td>0</td>\n      <td>0</td>\n      <td>0</td>\n      <td>0</td>\n      <td>0</td>\n      <td>0</td>\n      <td>0</td>\n      <td>0</td>\n      <td>0</td>\n      <td>...</td>\n      <td>0</td>\n      <td>0</td>\n      <td>0</td>\n      <td>0</td>\n      <td>0</td>\n      <td>0</td>\n      <td>0</td>\n      <td>0</td>\n      <td>0</td>\n      <td>0</td>\n    </tr>\n    <tr>\n      <th>2</th>\n      <td>Add the drained pasta and chopped tomatoes to ...</td>\n      <td>0</td>\n      <td>0</td>\n      <td>0</td>\n      <td>0</td>\n      <td>0</td>\n      <td>0</td>\n      <td>0</td>\n      <td>0</td>\n      <td>0</td>\n      <td>...</td>\n      <td>0</td>\n      <td>0</td>\n      <td>0</td>\n      <td>0</td>\n      <td>0</td>\n      <td>0</td>\n      <td>0</td>\n      <td>0</td>\n      <td>0</td>\n      <td>0</td>\n    </tr>\n    <tr>\n      <th>3</th>\n      <td>Toast the cumin seeds, fennel seeds and black ...</td>\n      <td>0</td>\n      <td>0</td>\n      <td>0</td>\n      <td>1</td>\n      <td>0</td>\n      <td>0</td>\n      <td>0</td>\n      <td>0</td>\n      <td>0</td>\n      <td>...</td>\n      <td>0</td>\n      <td>0</td>\n      <td>0</td>\n      <td>0</td>\n      <td>0</td>\n      <td>0</td>\n      <td>0</td>\n      <td>0</td>\n      <td>0</td>\n      <td>0</td>\n    </tr>\n    <tr>\n      <th>4</th>\n      <td>Transfer to a mortar and pestle and grind to a...</td>\n      <td>0</td>\n      <td>0</td>\n      <td>0</td>\n      <td>0</td>\n      <td>0</td>\n      <td>0</td>\n      <td>0</td>\n      <td>0</td>\n      <td>0</td>\n      <td>...</td>\n      <td>0</td>\n      <td>0</td>\n      <td>0</td>\n      <td>0</td>\n      <td>0</td>\n      <td>0</td>\n      <td>0</td>\n      <td>0</td>\n      <td>0</td>\n      <td>0</td>\n    </tr>\n  </tbody>\n</table>\n<p>5 rows × 53 columns</p>\n</div>"
     },
     "metadata": {},
     "execution_count": 9
    }
   ],
   "source": [
    "classified_methods = pd.concat([description_by_method_id, vectorized_methods], axis='columns').reset_index(drop=True)\n",
    "classified_methods.head(5)"
   ]
  },
  {
   "source": [
    "Listing the methods"
   ],
   "cell_type": "markdown",
   "metadata": {}
  },
  {
   "cell_type": "code",
   "execution_count": 10,
   "metadata": {},
   "outputs": [
    {
     "output_type": "execute_result",
     "data": {
      "text/plain": [
       "['Measuring', 'Plating', 'Smoking', 'Toasting', 'Microwaving']"
      ]
     },
     "metadata": {},
     "execution_count": 10
    }
   ],
   "source": [
    "techniques = list(classified_methods.columns[1:])\n",
    "techniques[:5]"
   ]
  },
  {
   "source": [
    "Fixing anomalies in the table"
   ],
   "cell_type": "markdown",
   "metadata": {}
  },
  {
   "cell_type": "code",
   "execution_count": 11,
   "metadata": {},
   "outputs": [],
   "source": [
    "#checking for anomalies (class > 1 or <0)\n",
    "for technique in techniques:\n",
    "    classified_methods.loc[classified_methods[technique] > 1, technique] = 1\n",
    "    classified_methods.loc[classified_methods[technique] < 0, technique] = 0\n"
   ]
  },
  {
   "source": [
    "Separating data in train and testing"
   ],
   "cell_type": "markdown",
   "metadata": {}
  },
  {
   "cell_type": "code",
   "execution_count": 14,
   "metadata": {},
   "outputs": [],
   "source": [
    "from sklearn.model_selection import train_test_split"
   ]
  },
  {
   "cell_type": "code",
   "execution_count": 15,
   "metadata": {},
   "outputs": [],
   "source": [
    "df_train, df_test = train_test_split(classified_methods, test_size=0.2, random_state=42)"
   ]
  },
  {
   "cell_type": "code",
   "execution_count": 17,
   "metadata": {},
   "outputs": [
    {
     "output_type": "execute_result",
     "data": {
      "text/plain": [
       "                                          description  Measuring  Plating  \\\n",
       "11  Add the onion and cook, stirring occasionally,...          0        0   \n",
       "9   Add the salt and pepper, taste and add a littl...          0        0   \n",
       "0   Put the mushrooms, chard, oil, garlic, chilli,...          0        0   \n",
       "\n",
       "    Smoking  Toasting  Microwaving  Air Frying  Double Boiler  Bain Marie  \\\n",
       "11        0         0            0           0              0           0   \n",
       "9         0         0            0           0              0           0   \n",
       "0         0         0            0           0              0           0   \n",
       "\n",
       "    Reducing  ...  Seasoning  Salting  Slicing  Chopping Fruits  \\\n",
       "11         0  ...          0        0        1                0   \n",
       "9          0  ...          0        0        0                0   \n",
       "0          0  ...          0        0        0                0   \n",
       "\n",
       "    Chopping Mushroom  Chopping Herbs  Mincing  Batonnet  Dicing  \\\n",
       "11                  0               0        0         0       0   \n",
       "9                   0               0        0         0       0   \n",
       "0                   0               0        0         0       0   \n",
       "\n",
       "    Roughly Chopping  \n",
       "11                 0  \n",
       "9                  0  \n",
       "0                  0  \n",
       "\n",
       "[3 rows x 53 columns]"
      ],
      "text/html": "<div>\n<style scoped>\n    .dataframe tbody tr th:only-of-type {\n        vertical-align: middle;\n    }\n\n    .dataframe tbody tr th {\n        vertical-align: top;\n    }\n\n    .dataframe thead th {\n        text-align: right;\n    }\n</style>\n<table border=\"1\" class=\"dataframe\">\n  <thead>\n    <tr style=\"text-align: right;\">\n      <th></th>\n      <th>description</th>\n      <th>Measuring</th>\n      <th>Plating</th>\n      <th>Smoking</th>\n      <th>Toasting</th>\n      <th>Microwaving</th>\n      <th>Air Frying</th>\n      <th>Double Boiler</th>\n      <th>Bain Marie</th>\n      <th>Reducing</th>\n      <th>...</th>\n      <th>Seasoning</th>\n      <th>Salting</th>\n      <th>Slicing</th>\n      <th>Chopping Fruits</th>\n      <th>Chopping Mushroom</th>\n      <th>Chopping Herbs</th>\n      <th>Mincing</th>\n      <th>Batonnet</th>\n      <th>Dicing</th>\n      <th>Roughly Chopping</th>\n    </tr>\n  </thead>\n  <tbody>\n    <tr>\n      <th>11</th>\n      <td>Add the onion and cook, stirring occasionally,...</td>\n      <td>0</td>\n      <td>0</td>\n      <td>0</td>\n      <td>0</td>\n      <td>0</td>\n      <td>0</td>\n      <td>0</td>\n      <td>0</td>\n      <td>0</td>\n      <td>...</td>\n      <td>0</td>\n      <td>0</td>\n      <td>1</td>\n      <td>0</td>\n      <td>0</td>\n      <td>0</td>\n      <td>0</td>\n      <td>0</td>\n      <td>0</td>\n      <td>0</td>\n    </tr>\n    <tr>\n      <th>9</th>\n      <td>Add the salt and pepper, taste and add a littl...</td>\n      <td>0</td>\n      <td>0</td>\n      <td>0</td>\n      <td>0</td>\n      <td>0</td>\n      <td>0</td>\n      <td>0</td>\n      <td>0</td>\n      <td>0</td>\n      <td>...</td>\n      <td>0</td>\n      <td>0</td>\n      <td>0</td>\n      <td>0</td>\n      <td>0</td>\n      <td>0</td>\n      <td>0</td>\n      <td>0</td>\n      <td>0</td>\n      <td>0</td>\n    </tr>\n    <tr>\n      <th>0</th>\n      <td>Put the mushrooms, chard, oil, garlic, chilli,...</td>\n      <td>0</td>\n      <td>0</td>\n      <td>0</td>\n      <td>0</td>\n      <td>0</td>\n      <td>0</td>\n      <td>0</td>\n      <td>0</td>\n      <td>0</td>\n      <td>...</td>\n      <td>0</td>\n      <td>0</td>\n      <td>0</td>\n      <td>0</td>\n      <td>0</td>\n      <td>0</td>\n      <td>0</td>\n      <td>0</td>\n      <td>0</td>\n      <td>0</td>\n    </tr>\n  </tbody>\n</table>\n<p>3 rows × 53 columns</p>\n</div>"
     },
     "metadata": {},
     "execution_count": 17
    }
   ],
   "source": [
    "df_test"
   ]
  },
  {
   "source": [
    "Pickling and csving the data frame for training use later"
   ],
   "cell_type": "markdown",
   "metadata": {}
  },
  {
   "cell_type": "code",
   "execution_count": 18,
   "metadata": {},
   "outputs": [],
   "source": [
    "classified_methods.to_pickle(os.path.join('hand_classified_methods', 'classified_methods'))\n",
    "classified_methods.to_csv(os.path.join('hand_classified_methods', 'classified_methods.csv'), index=False)\n",
    "df_train.to_csv(os.path.join('hand_classified_methods', 'methods_train.csv'), index=False)\n",
    "df_test.to_csv(os.path.join('hand_classified_methods', 'methods_test.csv'), index=False)"
   ]
  }
 ]
}