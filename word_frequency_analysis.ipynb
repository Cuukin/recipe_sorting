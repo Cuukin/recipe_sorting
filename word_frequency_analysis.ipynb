{
 "metadata": {
  "language_info": {
   "codemirror_mode": {
    "name": "ipython",
    "version": 3
   },
   "file_extension": ".py",
   "mimetype": "text/x-python",
   "name": "python",
   "nbconvert_exporter": "python",
   "pygments_lexer": "ipython3",
   "version": "3.8.8"
  },
  "orig_nbformat": 2,
  "kernelspec": {
   "name": "python388jvsc74a57bd09c55446680d5435dcfad149676b5f9bdd40bd2288f3a0546b701a7eed2675e86",
   "display_name": "Python 3.8.8 64-bit ('base': conda)"
  }
 },
 "nbformat": 4,
 "nbformat_minor": 2,
 "cells": [
  {
   "source": [
    "# Word Frequency Analysis on evaluation DataBase (currently BBC DB)"
   ],
   "cell_type": "markdown",
   "metadata": {}
  },
  {
   "source": [
    "Importing libraries and a premade Recipes class"
   ],
   "cell_type": "markdown",
   "metadata": {}
  },
  {
   "cell_type": "code",
   "execution_count": 1,
   "metadata": {},
   "outputs": [],
   "source": [
    "import pandas as pd\n",
    "from recipes import Recipes"
   ]
  },
  {
   "source": [
    "creating recipes object and importing data"
   ],
   "cell_type": "markdown",
   "metadata": {}
  },
  {
   "cell_type": "code",
   "execution_count": 2,
   "metadata": {},
   "outputs": [],
   "source": [
    "cuukin = Recipes()"
   ]
  },
  {
   "cell_type": "code",
   "execution_count": 3,
   "metadata": {},
   "outputs": [],
   "source": [
    "cuukin.import_data(listings_folder='listings', evaluation_folder='evaluation')"
   ]
  },
  {
   "source": [
    "checking tables for anomalies"
   ],
   "cell_type": "markdown",
   "metadata": {}
  },
  {
   "cell_type": "code",
   "execution_count": 4,
   "metadata": {},
   "outputs": [
    {
     "output_type": "execute_result",
     "data": {
      "text/plain": [
       "                name                       created_at  \\\n",
       "id                                                      \n",
       "191    Smoked salmon 2021-04-26 10:52:44.769000+00:00   \n",
       "190  Smoked mackerel 2021-04-26 10:52:10.914000+00:00   \n",
       "189    Peanut butter 2021-04-26 10:48:18.280000+00:00   \n",
       "\n",
       "                          updated_at  badge_id  score_1  score_2  score_3  \\\n",
       "id                                                                          \n",
       "191 2021-05-21 21:23:09.963000+00:00        13        5        1        0   \n",
       "190 2021-05-21 21:23:09.957000+00:00        13        5        1        0   \n",
       "189 2021-05-21 21:23:09.951000+00:00        17        5        1        0   \n",
       "\n",
       "     cupboard  \n",
       "id             \n",
       "191     False  \n",
       "190     False  \n",
       "189     False  "
      ],
      "text/html": "<div>\n<style scoped>\n    .dataframe tbody tr th:only-of-type {\n        vertical-align: middle;\n    }\n\n    .dataframe tbody tr th {\n        vertical-align: top;\n    }\n\n    .dataframe thead th {\n        text-align: right;\n    }\n</style>\n<table border=\"1\" class=\"dataframe\">\n  <thead>\n    <tr style=\"text-align: right;\">\n      <th></th>\n      <th>name</th>\n      <th>created_at</th>\n      <th>updated_at</th>\n      <th>badge_id</th>\n      <th>score_1</th>\n      <th>score_2</th>\n      <th>score_3</th>\n      <th>cupboard</th>\n    </tr>\n    <tr>\n      <th>id</th>\n      <th></th>\n      <th></th>\n      <th></th>\n      <th></th>\n      <th></th>\n      <th></th>\n      <th></th>\n      <th></th>\n    </tr>\n  </thead>\n  <tbody>\n    <tr>\n      <th>191</th>\n      <td>Smoked salmon</td>\n      <td>2021-04-26 10:52:44.769000+00:00</td>\n      <td>2021-05-21 21:23:09.963000+00:00</td>\n      <td>13</td>\n      <td>5</td>\n      <td>1</td>\n      <td>0</td>\n      <td>False</td>\n    </tr>\n    <tr>\n      <th>190</th>\n      <td>Smoked mackerel</td>\n      <td>2021-04-26 10:52:10.914000+00:00</td>\n      <td>2021-05-21 21:23:09.957000+00:00</td>\n      <td>13</td>\n      <td>5</td>\n      <td>1</td>\n      <td>0</td>\n      <td>False</td>\n    </tr>\n    <tr>\n      <th>189</th>\n      <td>Peanut butter</td>\n      <td>2021-04-26 10:48:18.280000+00:00</td>\n      <td>2021-05-21 21:23:09.951000+00:00</td>\n      <td>17</td>\n      <td>5</td>\n      <td>1</td>\n      <td>0</td>\n      <td>False</td>\n    </tr>\n  </tbody>\n</table>\n</div>"
     },
     "metadata": {},
     "execution_count": 4
    }
   ],
   "source": [
    "cuukin.listings['ingredients'].head(3)"
   ]
  },
  {
   "cell_type": "code",
   "execution_count": 5,
   "metadata": {},
   "outputs": [
    {
     "output_type": "execute_result",
     "data": {
      "text/plain": [
       "     recipe_id                                        description\n",
       "id                                                               \n",
       "0.0        0.0  Heat the oil in a frying pan and gently fry th...\n",
       "1.0        0.0  Add the chickpeas, harissa and tomatoes and co...\n",
       "2.0        0.0  Add a squeeze of lemon juice and season with s..."
      ],
      "text/html": "<div>\n<style scoped>\n    .dataframe tbody tr th:only-of-type {\n        vertical-align: middle;\n    }\n\n    .dataframe tbody tr th {\n        vertical-align: top;\n    }\n\n    .dataframe thead th {\n        text-align: right;\n    }\n</style>\n<table border=\"1\" class=\"dataframe\">\n  <thead>\n    <tr style=\"text-align: right;\">\n      <th></th>\n      <th>recipe_id</th>\n      <th>description</th>\n    </tr>\n    <tr>\n      <th>id</th>\n      <th></th>\n      <th></th>\n    </tr>\n  </thead>\n  <tbody>\n    <tr>\n      <th>0.0</th>\n      <td>0.0</td>\n      <td>Heat the oil in a frying pan and gently fry th...</td>\n    </tr>\n    <tr>\n      <th>1.0</th>\n      <td>0.0</td>\n      <td>Add the chickpeas, harissa and tomatoes and co...</td>\n    </tr>\n    <tr>\n      <th>2.0</th>\n      <td>0.0</td>\n      <td>Add a squeeze of lemon juice and season with s...</td>\n    </tr>\n  </tbody>\n</table>\n</div>"
     },
     "metadata": {},
     "execution_count": 5
    }
   ],
   "source": [
    "cuukin.evaluation_data['recipe_methods'].head(3)"
   ]
  },
  {
   "source": [
    "Preprocessing data"
   ],
   "cell_type": "markdown",
   "metadata": {}
  },
  {
   "cell_type": "code",
   "execution_count": 6,
   "metadata": {},
   "outputs": [
    {
     "output_type": "execute_result",
     "data": {
      "text/plain": [
       "    recipe_id                                        description\n",
       "id                                                              \n",
       "0           0  Heat the oil in a frying pan and gently fry th...\n",
       "1           0  Add the chickpeas, harissa and tomatoes and co...\n",
       "2           0  Add a squeeze of lemon juice and season with s..."
      ],
      "text/html": "<div>\n<style scoped>\n    .dataframe tbody tr th:only-of-type {\n        vertical-align: middle;\n    }\n\n    .dataframe tbody tr th {\n        vertical-align: top;\n    }\n\n    .dataframe thead th {\n        text-align: right;\n    }\n</style>\n<table border=\"1\" class=\"dataframe\">\n  <thead>\n    <tr style=\"text-align: right;\">\n      <th></th>\n      <th>recipe_id</th>\n      <th>description</th>\n    </tr>\n    <tr>\n      <th>id</th>\n      <th></th>\n      <th></th>\n    </tr>\n  </thead>\n  <tbody>\n    <tr>\n      <th>0</th>\n      <td>0</td>\n      <td>Heat the oil in a frying pan and gently fry th...</td>\n    </tr>\n    <tr>\n      <th>1</th>\n      <td>0</td>\n      <td>Add the chickpeas, harissa and tomatoes and co...</td>\n    </tr>\n    <tr>\n      <th>2</th>\n      <td>0</td>\n      <td>Add a squeeze of lemon juice and season with s...</td>\n    </tr>\n  </tbody>\n</table>\n</div>"
     },
     "metadata": {},
     "execution_count": 6
    }
   ],
   "source": [
    "# setting index values to integers\n",
    "cuukin.evaluation_data['recipe_methods'].dropna(axis='index', inplace=True)\n",
    "cuukin.evaluation_data['recipe_methods'].index = cuukin.evaluation_data['recipe_methods'].index.astype('int')\n",
    "cuukin.evaluation_data['recipe_methods'] = cuukin.evaluation_data['recipe_methods'].astype({'recipe_id': 'int'})\n",
    "cuukin.evaluation_data['recipe_methods'].head(3)"
   ]
  },
  {
   "source": [
    "Running word frequency analysis (can take some minutes)"
   ],
   "cell_type": "markdown",
   "metadata": {}
  },
  {
   "cell_type": "code",
   "execution_count": 7,
   "metadata": {},
   "outputs": [],
   "source": [
    "cuukin.word_frequency_analysis()"
   ]
  },
  {
   "cell_type": "code",
   "execution_count": 8,
   "metadata": {},
   "outputs": [
    {
     "output_type": "execute_result",
     "data": {
      "text/plain": [
       "        frequency  relative_frequency\n",
       "words                                \n",
       "minute      15791            3.144365\n",
       "add         14922            2.971326\n",
       "heat        10553            2.101354\n",
       "�           10001            1.991438\n",
       "cook         9668            1.925129\n",
       "pan          8024            1.597770\n",
       "stir         7522            1.497810\n",
       "bowl         6758            1.345679\n",
       "oil          6647            1.323576\n",
       "serve        6166            1.227798"
      ],
      "text/html": "<div>\n<style scoped>\n    .dataframe tbody tr th:only-of-type {\n        vertical-align: middle;\n    }\n\n    .dataframe tbody tr th {\n        vertical-align: top;\n    }\n\n    .dataframe thead th {\n        text-align: right;\n    }\n</style>\n<table border=\"1\" class=\"dataframe\">\n  <thead>\n    <tr style=\"text-align: right;\">\n      <th></th>\n      <th>frequency</th>\n      <th>relative_frequency</th>\n    </tr>\n    <tr>\n      <th>words</th>\n      <th></th>\n      <th></th>\n    </tr>\n  </thead>\n  <tbody>\n    <tr>\n      <th>minute</th>\n      <td>15791</td>\n      <td>3.144365</td>\n    </tr>\n    <tr>\n      <th>add</th>\n      <td>14922</td>\n      <td>2.971326</td>\n    </tr>\n    <tr>\n      <th>heat</th>\n      <td>10553</td>\n      <td>2.101354</td>\n    </tr>\n    <tr>\n      <th>�</th>\n      <td>10001</td>\n      <td>1.991438</td>\n    </tr>\n    <tr>\n      <th>cook</th>\n      <td>9668</td>\n      <td>1.925129</td>\n    </tr>\n    <tr>\n      <th>pan</th>\n      <td>8024</td>\n      <td>1.597770</td>\n    </tr>\n    <tr>\n      <th>stir</th>\n      <td>7522</td>\n      <td>1.497810</td>\n    </tr>\n    <tr>\n      <th>bowl</th>\n      <td>6758</td>\n      <td>1.345679</td>\n    </tr>\n    <tr>\n      <th>oil</th>\n      <td>6647</td>\n      <td>1.323576</td>\n    </tr>\n    <tr>\n      <th>serve</th>\n      <td>6166</td>\n      <td>1.227798</td>\n    </tr>\n  </tbody>\n</table>\n</div>"
     },
     "metadata": {},
     "execution_count": 8
    }
   ],
   "source": [
    "cuukin.word_distribution.head(10)"
   ]
  },
  {
   "source": [
    "transforming listings into sets for faster search"
   ],
   "cell_type": "markdown",
   "metadata": {}
  },
  {
   "cell_type": "code",
   "execution_count": 9,
   "metadata": {},
   "outputs": [],
   "source": [
    "from recipes import lemmatize\n",
    "from operator import add\n",
    "from functools import reduce\n",
    "# transforming listing into sets for O(1) search\n",
    "ingredients_list = list(map(lemmatize, set(cuukin.listings['ingredients']['name'])))\n",
    "ingredients_set = set(reduce(add ,ingredients_list))\n",
    "\n",
    "tools_list = list(map(lemmatize, set(cuukin.listings['tools']['name'])))\n",
    "tools_set = set(reduce(add ,tools_list))\n",
    "\n",
    "techniques_list = list(map(lemmatize, set(cuukin.listings['techniques']['name'])))\n",
    "techniques_set = set(reduce(add ,techniques_list))\n"
   ]
  },
  {
   "source": [
    "Automatic tagging function for each word"
   ],
   "cell_type": "markdown",
   "metadata": {}
  },
  {
   "cell_type": "code",
   "execution_count": 10,
   "metadata": {
    "tags": []
   },
   "outputs": [],
   "source": [
    "# adding easy tags in the word frequency distribution\n",
    "def classify_word(words):\n",
    "    results = []\n",
    "    for word in words:\n",
    "        word = word[0]\n",
    "        if word in ingredients_set: results.append('ingredients')\n",
    "        elif word in tools_set: results.append('tools')\n",
    "        elif word in techniques_set: results.append('techniques')\n",
    "        else: results.append('others')\n",
    "    return results\n"
   ]
  },
  {
   "source": [
    "Printing and checking generated tables"
   ],
   "cell_type": "markdown",
   "metadata": {}
  },
  {
   "cell_type": "code",
   "execution_count": 16,
   "metadata": {},
   "outputs": [
    {
     "output_type": "execute_result",
     "data": {
      "text/plain": [
       "         frequency  relative_frequency         type\n",
       "words                                              \n",
       "minute       15791            3.144365       others\n",
       "add          14922            2.971326       others\n",
       "heat         10553            2.101354       others\n",
       "�            10001            1.991438       others\n",
       "cook          9668            1.925129       others\n",
       "pan           8024            1.597770        tools\n",
       "stir          7522            1.497810   techniques\n",
       "bowl          6758            1.345679        tools\n",
       "oil           6647            1.323576  ingredients\n",
       "serve         6166            1.227798       others\n",
       "place         5957            1.186181       others\n",
       "salt          5886            1.172043  ingredients\n",
       "oven          5777            1.150339        tools\n",
       "water         5418            1.078853   techniques\n",
       "mixture       5328            1.060932       others\n",
       "large         4967            0.989048       others\n",
       "fry           4900            0.975707        tools\n",
       "leave         4562            0.908403       others\n",
       "pepper        4518            0.899642  ingredients\n",
       "mix           4244            0.845082   techniques\n",
       "remove        4080            0.812425       others\n",
       "bake          3807            0.758065  ingredients\n",
       "sauce         3666            0.729988  ingredients\n",
       "butter        3661            0.728992  ingredients\n",
       "onion         3624            0.721625  ingredients\n",
       "brown         3504            0.697730  ingredients\n",
       "season        3502            0.697332   techniques\n",
       "egg           3501            0.697133  ingredients\n",
       "sugar         3500            0.696933  ingredients\n",
       "set           3455            0.687973       others"
      ],
      "text/html": "<div>\n<style scoped>\n    .dataframe tbody tr th:only-of-type {\n        vertical-align: middle;\n    }\n\n    .dataframe tbody tr th {\n        vertical-align: top;\n    }\n\n    .dataframe thead th {\n        text-align: right;\n    }\n</style>\n<table border=\"1\" class=\"dataframe\">\n  <thead>\n    <tr style=\"text-align: right;\">\n      <th></th>\n      <th>frequency</th>\n      <th>relative_frequency</th>\n      <th>type</th>\n    </tr>\n    <tr>\n      <th>words</th>\n      <th></th>\n      <th></th>\n      <th></th>\n    </tr>\n  </thead>\n  <tbody>\n    <tr>\n      <th>minute</th>\n      <td>15791</td>\n      <td>3.144365</td>\n      <td>others</td>\n    </tr>\n    <tr>\n      <th>add</th>\n      <td>14922</td>\n      <td>2.971326</td>\n      <td>others</td>\n    </tr>\n    <tr>\n      <th>heat</th>\n      <td>10553</td>\n      <td>2.101354</td>\n      <td>others</td>\n    </tr>\n    <tr>\n      <th>�</th>\n      <td>10001</td>\n      <td>1.991438</td>\n      <td>others</td>\n    </tr>\n    <tr>\n      <th>cook</th>\n      <td>9668</td>\n      <td>1.925129</td>\n      <td>others</td>\n    </tr>\n    <tr>\n      <th>pan</th>\n      <td>8024</td>\n      <td>1.597770</td>\n      <td>tools</td>\n    </tr>\n    <tr>\n      <th>stir</th>\n      <td>7522</td>\n      <td>1.497810</td>\n      <td>techniques</td>\n    </tr>\n    <tr>\n      <th>bowl</th>\n      <td>6758</td>\n      <td>1.345679</td>\n      <td>tools</td>\n    </tr>\n    <tr>\n      <th>oil</th>\n      <td>6647</td>\n      <td>1.323576</td>\n      <td>ingredients</td>\n    </tr>\n    <tr>\n      <th>serve</th>\n      <td>6166</td>\n      <td>1.227798</td>\n      <td>others</td>\n    </tr>\n    <tr>\n      <th>place</th>\n      <td>5957</td>\n      <td>1.186181</td>\n      <td>others</td>\n    </tr>\n    <tr>\n      <th>salt</th>\n      <td>5886</td>\n      <td>1.172043</td>\n      <td>ingredients</td>\n    </tr>\n    <tr>\n      <th>oven</th>\n      <td>5777</td>\n      <td>1.150339</td>\n      <td>tools</td>\n    </tr>\n    <tr>\n      <th>water</th>\n      <td>5418</td>\n      <td>1.078853</td>\n      <td>techniques</td>\n    </tr>\n    <tr>\n      <th>mixture</th>\n      <td>5328</td>\n      <td>1.060932</td>\n      <td>others</td>\n    </tr>\n    <tr>\n      <th>large</th>\n      <td>4967</td>\n      <td>0.989048</td>\n      <td>others</td>\n    </tr>\n    <tr>\n      <th>fry</th>\n      <td>4900</td>\n      <td>0.975707</td>\n      <td>tools</td>\n    </tr>\n    <tr>\n      <th>leave</th>\n      <td>4562</td>\n      <td>0.908403</td>\n      <td>others</td>\n    </tr>\n    <tr>\n      <th>pepper</th>\n      <td>4518</td>\n      <td>0.899642</td>\n      <td>ingredients</td>\n    </tr>\n    <tr>\n      <th>mix</th>\n      <td>4244</td>\n      <td>0.845082</td>\n      <td>techniques</td>\n    </tr>\n    <tr>\n      <th>remove</th>\n      <td>4080</td>\n      <td>0.812425</td>\n      <td>others</td>\n    </tr>\n    <tr>\n      <th>bake</th>\n      <td>3807</td>\n      <td>0.758065</td>\n      <td>ingredients</td>\n    </tr>\n    <tr>\n      <th>sauce</th>\n      <td>3666</td>\n      <td>0.729988</td>\n      <td>ingredients</td>\n    </tr>\n    <tr>\n      <th>butter</th>\n      <td>3661</td>\n      <td>0.728992</td>\n      <td>ingredients</td>\n    </tr>\n    <tr>\n      <th>onion</th>\n      <td>3624</td>\n      <td>0.721625</td>\n      <td>ingredients</td>\n    </tr>\n    <tr>\n      <th>brown</th>\n      <td>3504</td>\n      <td>0.697730</td>\n      <td>ingredients</td>\n    </tr>\n    <tr>\n      <th>season</th>\n      <td>3502</td>\n      <td>0.697332</td>\n      <td>techniques</td>\n    </tr>\n    <tr>\n      <th>egg</th>\n      <td>3501</td>\n      <td>0.697133</td>\n      <td>ingredients</td>\n    </tr>\n    <tr>\n      <th>sugar</th>\n      <td>3500</td>\n      <td>0.696933</td>\n      <td>ingredients</td>\n    </tr>\n    <tr>\n      <th>set</th>\n      <td>3455</td>\n      <td>0.687973</td>\n      <td>others</td>\n    </tr>\n  </tbody>\n</table>\n</div>"
     },
     "metadata": {},
     "execution_count": 16
    }
   ],
   "source": [
    "cuukin.word_distribution = cuukin.word_distribution.assign(type = classify_word(cuukin.word_distribution.index))\n",
    "cuukin.word_distribution.head(30)"
   ]
  },
  {
   "cell_type": "code",
   "execution_count": 12,
   "metadata": {},
   "outputs": [
    {
     "output_type": "execute_result",
     "data": {
      "text/plain": [
       "        frequency  relative_frequency         type\n",
       "words                                             \n",
       "oil          6647            1.323576  ingredients\n",
       "salt         5886            1.172043  ingredients\n",
       "pepper       4518            0.899642  ingredients\n",
       "bake         3807            0.758065  ingredients\n",
       "sauce        3666            0.729988  ingredients\n",
       "butter       3661            0.728992  ingredients\n",
       "onion        3624            0.721625  ingredients\n",
       "brown        3504            0.697730  ingredients\n",
       "egg          3501            0.697133  ingredients\n",
       "sugar        3500            0.696933  ingredients"
      ],
      "text/html": "<div>\n<style scoped>\n    .dataframe tbody tr th:only-of-type {\n        vertical-align: middle;\n    }\n\n    .dataframe tbody tr th {\n        vertical-align: top;\n    }\n\n    .dataframe thead th {\n        text-align: right;\n    }\n</style>\n<table border=\"1\" class=\"dataframe\">\n  <thead>\n    <tr style=\"text-align: right;\">\n      <th></th>\n      <th>frequency</th>\n      <th>relative_frequency</th>\n      <th>type</th>\n    </tr>\n    <tr>\n      <th>words</th>\n      <th></th>\n      <th></th>\n      <th></th>\n    </tr>\n  </thead>\n  <tbody>\n    <tr>\n      <th>oil</th>\n      <td>6647</td>\n      <td>1.323576</td>\n      <td>ingredients</td>\n    </tr>\n    <tr>\n      <th>salt</th>\n      <td>5886</td>\n      <td>1.172043</td>\n      <td>ingredients</td>\n    </tr>\n    <tr>\n      <th>pepper</th>\n      <td>4518</td>\n      <td>0.899642</td>\n      <td>ingredients</td>\n    </tr>\n    <tr>\n      <th>bake</th>\n      <td>3807</td>\n      <td>0.758065</td>\n      <td>ingredients</td>\n    </tr>\n    <tr>\n      <th>sauce</th>\n      <td>3666</td>\n      <td>0.729988</td>\n      <td>ingredients</td>\n    </tr>\n    <tr>\n      <th>butter</th>\n      <td>3661</td>\n      <td>0.728992</td>\n      <td>ingredients</td>\n    </tr>\n    <tr>\n      <th>onion</th>\n      <td>3624</td>\n      <td>0.721625</td>\n      <td>ingredients</td>\n    </tr>\n    <tr>\n      <th>brown</th>\n      <td>3504</td>\n      <td>0.697730</td>\n      <td>ingredients</td>\n    </tr>\n    <tr>\n      <th>egg</th>\n      <td>3501</td>\n      <td>0.697133</td>\n      <td>ingredients</td>\n    </tr>\n    <tr>\n      <th>sugar</th>\n      <td>3500</td>\n      <td>0.696933</td>\n      <td>ingredients</td>\n    </tr>\n  </tbody>\n</table>\n</div>"
     },
     "metadata": {},
     "execution_count": 12
    }
   ],
   "source": [
    "cuukin.word_distribution[cuukin.word_distribution['type'] == 'ingredients'].head(10)"
   ]
  },
  {
   "cell_type": "code",
   "execution_count": 13,
   "metadata": {},
   "outputs": [
    {
     "output_type": "execute_result",
     "data": {
      "text/plain": [
       "          frequency  relative_frequency   type\n",
       "words                                         \n",
       "pan            8024            1.597770  tools\n",
       "bowl           6758            1.345679  tools\n",
       "oven           5777            1.150339  tools\n",
       "fry            4900            0.975707  tools\n",
       "spoon          2828            0.563122  tools\n",
       "saucepan       2644            0.526483  tools\n",
       "tray           2283            0.454600  tools\n",
       "whisk          2239            0.445838  tools\n",
       "cut            1853            0.368977  tools\n",
       "dish           1731            0.344683  tools"
      ],
      "text/html": "<div>\n<style scoped>\n    .dataframe tbody tr th:only-of-type {\n        vertical-align: middle;\n    }\n\n    .dataframe tbody tr th {\n        vertical-align: top;\n    }\n\n    .dataframe thead th {\n        text-align: right;\n    }\n</style>\n<table border=\"1\" class=\"dataframe\">\n  <thead>\n    <tr style=\"text-align: right;\">\n      <th></th>\n      <th>frequency</th>\n      <th>relative_frequency</th>\n      <th>type</th>\n    </tr>\n    <tr>\n      <th>words</th>\n      <th></th>\n      <th></th>\n      <th></th>\n    </tr>\n  </thead>\n  <tbody>\n    <tr>\n      <th>pan</th>\n      <td>8024</td>\n      <td>1.597770</td>\n      <td>tools</td>\n    </tr>\n    <tr>\n      <th>bowl</th>\n      <td>6758</td>\n      <td>1.345679</td>\n      <td>tools</td>\n    </tr>\n    <tr>\n      <th>oven</th>\n      <td>5777</td>\n      <td>1.150339</td>\n      <td>tools</td>\n    </tr>\n    <tr>\n      <th>fry</th>\n      <td>4900</td>\n      <td>0.975707</td>\n      <td>tools</td>\n    </tr>\n    <tr>\n      <th>spoon</th>\n      <td>2828</td>\n      <td>0.563122</td>\n      <td>tools</td>\n    </tr>\n    <tr>\n      <th>saucepan</th>\n      <td>2644</td>\n      <td>0.526483</td>\n      <td>tools</td>\n    </tr>\n    <tr>\n      <th>tray</th>\n      <td>2283</td>\n      <td>0.454600</td>\n      <td>tools</td>\n    </tr>\n    <tr>\n      <th>whisk</th>\n      <td>2239</td>\n      <td>0.445838</td>\n      <td>tools</td>\n    </tr>\n    <tr>\n      <th>cut</th>\n      <td>1853</td>\n      <td>0.368977</td>\n      <td>tools</td>\n    </tr>\n    <tr>\n      <th>dish</th>\n      <td>1731</td>\n      <td>0.344683</td>\n      <td>tools</td>\n    </tr>\n  </tbody>\n</table>\n</div>"
     },
     "metadata": {},
     "execution_count": 13
    }
   ],
   "source": [
    "cuukin.word_distribution[cuukin.word_distribution['type'] == 'tools'].head(10)"
   ]
  },
  {
   "cell_type": "code",
   "execution_count": 17,
   "metadata": {},
   "outputs": [
    {
     "output_type": "execute_result",
     "data": {
      "text/plain": [
       "         frequency  relative_frequency        type\n",
       "words                                             \n",
       "stir          7522            1.497810  techniques\n",
       "water         5418            1.078853  techniques\n",
       "mix           4244            0.845082  techniques\n",
       "season        3502            0.697332  techniques\n",
       "boil          2926            0.582636  techniques\n",
       "simmer        2855            0.568499  techniques\n",
       "plate         1720            0.342493  techniques\n",
       "reduce        1493            0.297292  techniques\n",
       "frying        1175            0.233971  techniques\n",
       "blend          901            0.179411  techniques\n",
       "deep           839            0.167065  techniques\n",
       "roast          728            0.144962  techniques\n",
       "grill          717            0.142772  techniques\n",
       "mash           642            0.127838  techniques\n",
       "squeeze        518            0.103146  techniques\n",
       "fruit          498            0.099164  techniques\n",
       "toast          448            0.089207  techniques\n",
       "mince          429            0.085424  techniques\n",
       "knead          427            0.085026  techniques\n",
       "steam          331            0.065910  techniques"
      ],
      "text/html": "<div>\n<style scoped>\n    .dataframe tbody tr th:only-of-type {\n        vertical-align: middle;\n    }\n\n    .dataframe tbody tr th {\n        vertical-align: top;\n    }\n\n    .dataframe thead th {\n        text-align: right;\n    }\n</style>\n<table border=\"1\" class=\"dataframe\">\n  <thead>\n    <tr style=\"text-align: right;\">\n      <th></th>\n      <th>frequency</th>\n      <th>relative_frequency</th>\n      <th>type</th>\n    </tr>\n    <tr>\n      <th>words</th>\n      <th></th>\n      <th></th>\n      <th></th>\n    </tr>\n  </thead>\n  <tbody>\n    <tr>\n      <th>stir</th>\n      <td>7522</td>\n      <td>1.497810</td>\n      <td>techniques</td>\n    </tr>\n    <tr>\n      <th>water</th>\n      <td>5418</td>\n      <td>1.078853</td>\n      <td>techniques</td>\n    </tr>\n    <tr>\n      <th>mix</th>\n      <td>4244</td>\n      <td>0.845082</td>\n      <td>techniques</td>\n    </tr>\n    <tr>\n      <th>season</th>\n      <td>3502</td>\n      <td>0.697332</td>\n      <td>techniques</td>\n    </tr>\n    <tr>\n      <th>boil</th>\n      <td>2926</td>\n      <td>0.582636</td>\n      <td>techniques</td>\n    </tr>\n    <tr>\n      <th>simmer</th>\n      <td>2855</td>\n      <td>0.568499</td>\n      <td>techniques</td>\n    </tr>\n    <tr>\n      <th>plate</th>\n      <td>1720</td>\n      <td>0.342493</td>\n      <td>techniques</td>\n    </tr>\n    <tr>\n      <th>reduce</th>\n      <td>1493</td>\n      <td>0.297292</td>\n      <td>techniques</td>\n    </tr>\n    <tr>\n      <th>frying</th>\n      <td>1175</td>\n      <td>0.233971</td>\n      <td>techniques</td>\n    </tr>\n    <tr>\n      <th>blend</th>\n      <td>901</td>\n      <td>0.179411</td>\n      <td>techniques</td>\n    </tr>\n    <tr>\n      <th>deep</th>\n      <td>839</td>\n      <td>0.167065</td>\n      <td>techniques</td>\n    </tr>\n    <tr>\n      <th>roast</th>\n      <td>728</td>\n      <td>0.144962</td>\n      <td>techniques</td>\n    </tr>\n    <tr>\n      <th>grill</th>\n      <td>717</td>\n      <td>0.142772</td>\n      <td>techniques</td>\n    </tr>\n    <tr>\n      <th>mash</th>\n      <td>642</td>\n      <td>0.127838</td>\n      <td>techniques</td>\n    </tr>\n    <tr>\n      <th>squeeze</th>\n      <td>518</td>\n      <td>0.103146</td>\n      <td>techniques</td>\n    </tr>\n    <tr>\n      <th>fruit</th>\n      <td>498</td>\n      <td>0.099164</td>\n      <td>techniques</td>\n    </tr>\n    <tr>\n      <th>toast</th>\n      <td>448</td>\n      <td>0.089207</td>\n      <td>techniques</td>\n    </tr>\n    <tr>\n      <th>mince</th>\n      <td>429</td>\n      <td>0.085424</td>\n      <td>techniques</td>\n    </tr>\n    <tr>\n      <th>knead</th>\n      <td>427</td>\n      <td>0.085026</td>\n      <td>techniques</td>\n    </tr>\n    <tr>\n      <th>steam</th>\n      <td>331</td>\n      <td>0.065910</td>\n      <td>techniques</td>\n    </tr>\n  </tbody>\n</table>\n</div>"
     },
     "metadata": {},
     "execution_count": 17
    }
   ],
   "source": [
    "cuukin.word_distribution[cuukin.word_distribution['type'] == 'techniques'].head(20)"
   ]
  },
  {
   "source": [
    "Exporting everything to csv"
   ],
   "cell_type": "markdown",
   "metadata": {}
  },
  {
   "cell_type": "code",
   "execution_count": 15,
   "metadata": {},
   "outputs": [],
   "source": [
    "cuukin.word_distribution.to_csv(r'word_frequency_analysis/word_frequency.csv')\n",
    "cuukin.word_distribution[cuukin.word_distribution['type'] == 'ingredients'].to_csv(r'word_frequency_analysis/word_frequency_ingredients.csv')\n",
    "cuukin.word_distribution[cuukin.word_distribution['type'] == 'tools'].to_csv(r'word_frequency_analysis/word_frequency_tools.csv')\n",
    "cuukin.word_distribution[cuukin.word_distribution['type'] == 'techniques'].to_csv(r'word_frequency_analysis/word_frequency_techniques.csv')"
   ]
  }
 ]
}