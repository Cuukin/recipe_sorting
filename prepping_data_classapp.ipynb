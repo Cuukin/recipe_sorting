{
 "metadata": {
  "language_info": {
   "codemirror_mode": {
    "name": "ipython",
    "version": 3
   },
   "file_extension": ".py",
   "mimetype": "text/x-python",
   "name": "python",
   "nbconvert_exporter": "python",
   "pygments_lexer": "ipython3",
   "version": "3.8.8"
  },
  "orig_nbformat": 2,
  "kernelspec": {
   "name": "python388jvsc74a57bd09c55446680d5435dcfad149676b5f9bdd40bd2288f3a0546b701a7eed2675e86",
   "display_name": "Python 3.8.8 64-bit ('base': conda)"
  }
 },
 "nbformat": 4,
 "nbformat_minor": 2,
 "cells": [
  {
   "source": [
    "# Preparing data frames to be used on the ClassApp project"
   ],
   "cell_type": "markdown",
   "metadata": {}
  },
  {
   "cell_type": "code",
   "execution_count": 1,
   "metadata": {},
   "outputs": [],
   "source": [
    "import pandas as pd \n",
    "import numpy as np\n",
    "from recipes import Recipes"
   ]
  },
  {
   "source": [
    "Importing listings and BBC DB"
   ],
   "cell_type": "markdown",
   "metadata": {}
  },
  {
   "cell_type": "code",
   "execution_count": 2,
   "metadata": {},
   "outputs": [],
   "source": [
    "cuukin = Recipes()\n",
    "cuukin.import_data(listings_folder='listings', evaluation_folder='evaluation')"
   ]
  },
  {
   "source": [
    "Assigning badge name to technique listing DF"
   ],
   "cell_type": "markdown",
   "metadata": {}
  },
  {
   "cell_type": "code",
   "execution_count": 3,
   "metadata": {},
   "outputs": [
    {
     "output_type": "execute_result",
     "data": {
      "text/plain": [
       "         name  score_1  score_2  score_3  badge_id  \\\n",
       "id                                                   \n",
       "67  Measuring       15        2        0        36   \n",
       "66    Plating       15        2        0        40   \n",
       "65    Smoking       15        2        0        39   \n",
       "\n",
       "                         created_at                       updated_at  \\\n",
       "id                                                                     \n",
       "67 2021-03-13 17:53:26.128000+00:00 2021-03-13 17:53:26.128000+00:00   \n",
       "66 2021-03-13 17:53:26.116000+00:00 2021-03-13 17:53:26.116000+00:00   \n",
       "65 2021-03-13 17:53:26.107000+00:00 2021-03-13 17:53:26.107000+00:00   \n",
       "\n",
       "                        badge_name  \n",
       "id                                  \n",
       "67             Prepping techniques  \n",
       "66                         Plating  \n",
       "65  Alternative cooking techniques  "
      ],
      "text/html": "<div>\n<style scoped>\n    .dataframe tbody tr th:only-of-type {\n        vertical-align: middle;\n    }\n\n    .dataframe tbody tr th {\n        vertical-align: top;\n    }\n\n    .dataframe thead th {\n        text-align: right;\n    }\n</style>\n<table border=\"1\" class=\"dataframe\">\n  <thead>\n    <tr style=\"text-align: right;\">\n      <th></th>\n      <th>name</th>\n      <th>score_1</th>\n      <th>score_2</th>\n      <th>score_3</th>\n      <th>badge_id</th>\n      <th>created_at</th>\n      <th>updated_at</th>\n      <th>badge_name</th>\n    </tr>\n    <tr>\n      <th>id</th>\n      <th></th>\n      <th></th>\n      <th></th>\n      <th></th>\n      <th></th>\n      <th></th>\n      <th></th>\n      <th></th>\n    </tr>\n  </thead>\n  <tbody>\n    <tr>\n      <th>67</th>\n      <td>Measuring</td>\n      <td>15</td>\n      <td>2</td>\n      <td>0</td>\n      <td>36</td>\n      <td>2021-03-13 17:53:26.128000+00:00</td>\n      <td>2021-03-13 17:53:26.128000+00:00</td>\n      <td>Prepping techniques</td>\n    </tr>\n    <tr>\n      <th>66</th>\n      <td>Plating</td>\n      <td>15</td>\n      <td>2</td>\n      <td>0</td>\n      <td>40</td>\n      <td>2021-03-13 17:53:26.116000+00:00</td>\n      <td>2021-03-13 17:53:26.116000+00:00</td>\n      <td>Plating</td>\n    </tr>\n    <tr>\n      <th>65</th>\n      <td>Smoking</td>\n      <td>15</td>\n      <td>2</td>\n      <td>0</td>\n      <td>39</td>\n      <td>2021-03-13 17:53:26.107000+00:00</td>\n      <td>2021-03-13 17:53:26.107000+00:00</td>\n      <td>Alternative cooking techniques</td>\n    </tr>\n  </tbody>\n</table>\n</div>"
     },
     "metadata": {},
     "execution_count": 3
    }
   ],
   "source": [
    "cuukin.listings['techniques'] = cuukin.listings['techniques'].assign(badge_name = cuukin.find_badge_name(cuukin.listings['techniques']['badge_id']))\n",
    "\n",
    "cuukin.listings['techniques'].head(3)"
   ]
  },
  {
   "source": [
    "Creating techniques data frame"
   ],
   "cell_type": "markdown",
   "metadata": {}
  },
  {
   "cell_type": "code",
   "execution_count": 4,
   "metadata": {},
   "outputs": [
    {
     "output_type": "execute_result",
     "data": {
      "text/plain": [
       "                    name  badge_id                      badge_name\n",
       "techniques_id                                                     \n",
       "67             Measuring        36             Prepping techniques\n",
       "66               Plating        40                         Plating\n",
       "65               Smoking        39  Alternative cooking techniques"
      ],
      "text/html": "<div>\n<style scoped>\n    .dataframe tbody tr th:only-of-type {\n        vertical-align: middle;\n    }\n\n    .dataframe tbody tr th {\n        vertical-align: top;\n    }\n\n    .dataframe thead th {\n        text-align: right;\n    }\n</style>\n<table border=\"1\" class=\"dataframe\">\n  <thead>\n    <tr style=\"text-align: right;\">\n      <th></th>\n      <th>name</th>\n      <th>badge_id</th>\n      <th>badge_name</th>\n    </tr>\n    <tr>\n      <th>techniques_id</th>\n      <th></th>\n      <th></th>\n      <th></th>\n    </tr>\n  </thead>\n  <tbody>\n    <tr>\n      <th>67</th>\n      <td>Measuring</td>\n      <td>36</td>\n      <td>Prepping techniques</td>\n    </tr>\n    <tr>\n      <th>66</th>\n      <td>Plating</td>\n      <td>40</td>\n      <td>Plating</td>\n    </tr>\n    <tr>\n      <th>65</th>\n      <td>Smoking</td>\n      <td>39</td>\n      <td>Alternative cooking techniques</td>\n    </tr>\n  </tbody>\n</table>\n</div>"
     },
     "metadata": {},
     "execution_count": 4
    }
   ],
   "source": [
    "techniques_df = cuukin.listings['techniques'][['name', 'badge_id', 'badge_name']]\n",
    "techniques_df.rename_axis('techniques_id', inplace=True)\n",
    "\n",
    "techniques_df.head(3)"
   ]
  },
  {
   "source": [
    "Creating badges data frame"
   ],
   "cell_type": "markdown",
   "metadata": {}
  },
  {
   "cell_type": "code",
   "execution_count": 5,
   "metadata": {},
   "outputs": [
    {
     "output_type": "execute_result",
     "data": {
      "text/plain": [
       "                                     name\n",
       "badges_id                                \n",
       "40                                Plating\n",
       "39         Alternative cooking techniques\n",
       "38                      Stove-top cooking"
      ],
      "text/html": "<div>\n<style scoped>\n    .dataframe tbody tr th:only-of-type {\n        vertical-align: middle;\n    }\n\n    .dataframe tbody tr th {\n        vertical-align: top;\n    }\n\n    .dataframe thead th {\n        text-align: right;\n    }\n</style>\n<table border=\"1\" class=\"dataframe\">\n  <thead>\n    <tr style=\"text-align: right;\">\n      <th></th>\n      <th>name</th>\n    </tr>\n    <tr>\n      <th>badges_id</th>\n      <th></th>\n    </tr>\n  </thead>\n  <tbody>\n    <tr>\n      <th>40</th>\n      <td>Plating</td>\n    </tr>\n    <tr>\n      <th>39</th>\n      <td>Alternative cooking techniques</td>\n    </tr>\n    <tr>\n      <th>38</th>\n      <td>Stove-top cooking</td>\n    </tr>\n  </tbody>\n</table>\n</div>"
     },
     "metadata": {},
     "execution_count": 5
    }
   ],
   "source": [
    "badges_df = cuukin.listings['badges'][cuukin.listings['badges']['category']=='technique']\n",
    "badges_df = badges_df[['name']]\n",
    "badges_df.rename_axis('badges_id', inplace=True)\n",
    "badges_df.head(3)"
   ]
  },
  {
   "source": [
    "Creating methods data frame"
   ],
   "cell_type": "markdown",
   "metadata": {}
  },
  {
   "cell_type": "code",
   "execution_count": 6,
   "metadata": {},
   "outputs": [
    {
     "output_type": "execute_result",
     "data": {
      "text/plain": [
       "            recipe_id                                        description\n",
       "methods_id                                                              \n",
       "0                   0  Heat the oil in a frying pan and gently fry th...\n",
       "1                   0  Add the chickpeas, harissa and tomatoes and co...\n",
       "2                   0  Add a squeeze of lemon juice and season with s..."
      ],
      "text/html": "<div>\n<style scoped>\n    .dataframe tbody tr th:only-of-type {\n        vertical-align: middle;\n    }\n\n    .dataframe tbody tr th {\n        vertical-align: top;\n    }\n\n    .dataframe thead th {\n        text-align: right;\n    }\n</style>\n<table border=\"1\" class=\"dataframe\">\n  <thead>\n    <tr style=\"text-align: right;\">\n      <th></th>\n      <th>recipe_id</th>\n      <th>description</th>\n    </tr>\n    <tr>\n      <th>methods_id</th>\n      <th></th>\n      <th></th>\n    </tr>\n  </thead>\n  <tbody>\n    <tr>\n      <th>0</th>\n      <td>0</td>\n      <td>Heat the oil in a frying pan and gently fry th...</td>\n    </tr>\n    <tr>\n      <th>1</th>\n      <td>0</td>\n      <td>Add the chickpeas, harissa and tomatoes and co...</td>\n    </tr>\n    <tr>\n      <th>2</th>\n      <td>0</td>\n      <td>Add a squeeze of lemon juice and season with s...</td>\n    </tr>\n  </tbody>\n</table>\n</div>"
     },
     "metadata": {},
     "execution_count": 6
    }
   ],
   "source": [
    "cuukin.evaluation_data['recipe_methods'].dropna(axis='index', inplace=True)\n",
    "cuukin.evaluation_data['recipe_methods'].index = cuukin.evaluation_data['recipe_methods'].index.astype('int')\n",
    "cuukin.evaluation_data['recipe_methods'] = cuukin.evaluation_data['recipe_methods'].astype({'recipe_id': 'int'})\n",
    "methods_df = cuukin.evaluation_data['recipe_methods']\n",
    "\n",
    "methods_df.rename_axis('methods_id', inplace=True)\n",
    "methods_df.head(3)"
   ]
  },
  {
   "source": [
    "Assigning method index column"
   ],
   "cell_type": "markdown",
   "metadata": {}
  },
  {
   "cell_type": "code",
   "execution_count": 7,
   "metadata": {},
   "outputs": [
    {
     "output_type": "execute_result",
     "data": {
      "text/plain": [
       "            recipe_id                                        description  \\\n",
       "methods_id                                                                 \n",
       "0                   0  Heat the oil in a frying pan and gently fry th...   \n",
       "1                   0  Add the chickpeas, harissa and tomatoes and co...   \n",
       "2                   0  Add a squeeze of lemon juice and season with s...   \n",
       "3                   0  Spoon the yoghurt onto two plates or shallow b...   \n",
       "4                   1  Bring a small saucepan of water to the boil an...   \n",
       "5                   1  Meanwhile, heat the oil in a wide frying pan o...   \n",
       "\n",
       "            method_index  \n",
       "methods_id                \n",
       "0                      0  \n",
       "1                      1  \n",
       "2                      2  \n",
       "3                      3  \n",
       "4                      1  \n",
       "5                      2  "
      ],
      "text/html": "<div>\n<style scoped>\n    .dataframe tbody tr th:only-of-type {\n        vertical-align: middle;\n    }\n\n    .dataframe tbody tr th {\n        vertical-align: top;\n    }\n\n    .dataframe thead th {\n        text-align: right;\n    }\n</style>\n<table border=\"1\" class=\"dataframe\">\n  <thead>\n    <tr style=\"text-align: right;\">\n      <th></th>\n      <th>recipe_id</th>\n      <th>description</th>\n      <th>method_index</th>\n    </tr>\n    <tr>\n      <th>methods_id</th>\n      <th></th>\n      <th></th>\n      <th></th>\n    </tr>\n  </thead>\n  <tbody>\n    <tr>\n      <th>0</th>\n      <td>0</td>\n      <td>Heat the oil in a frying pan and gently fry th...</td>\n      <td>0</td>\n    </tr>\n    <tr>\n      <th>1</th>\n      <td>0</td>\n      <td>Add the chickpeas, harissa and tomatoes and co...</td>\n      <td>1</td>\n    </tr>\n    <tr>\n      <th>2</th>\n      <td>0</td>\n      <td>Add a squeeze of lemon juice and season with s...</td>\n      <td>2</td>\n    </tr>\n    <tr>\n      <th>3</th>\n      <td>0</td>\n      <td>Spoon the yoghurt onto two plates or shallow b...</td>\n      <td>3</td>\n    </tr>\n    <tr>\n      <th>4</th>\n      <td>1</td>\n      <td>Bring a small saucepan of water to the boil an...</td>\n      <td>1</td>\n    </tr>\n    <tr>\n      <th>5</th>\n      <td>1</td>\n      <td>Meanwhile, heat the oil in a wide frying pan o...</td>\n      <td>2</td>\n    </tr>\n  </tbody>\n</table>\n</div>"
     },
     "metadata": {},
     "execution_count": 7
    }
   ],
   "source": [
    "methods_df['method_index'] = 0\n",
    "num_indexes = methods_df.shape[0]\n",
    "for index in range(1,num_indexes):\n",
    "    if methods_df.at[index, 'recipe_id'] == methods_df.at[index - 1, 'recipe_id']:\n",
    "        methods_df.at[index, 'method_index'] = methods_df.at[index - 1, 'method_index'] + 1\n",
    "    else:\n",
    "        methods_df.at[index, 'method_index'] = 1\n",
    "methods_df.head(6)"
   ]
  },
  {
   "source": [
    "Creating recipes Data Frame"
   ],
   "cell_type": "markdown",
   "metadata": {}
  },
  {
   "cell_type": "code",
   "execution_count": 8,
   "metadata": {},
   "outputs": [
    {
     "output_type": "execute_result",
     "data": {
      "text/plain": [
       "                                         title\n",
       "recipes_id                                    \n",
       "0           Chickpeas with harissa and yoghurt\n",
       "1              Chickpea, spinach and egg curry\n",
       "2              Tomato, chickpea and pasta soup"
      ],
      "text/html": "<div>\n<style scoped>\n    .dataframe tbody tr th:only-of-type {\n        vertical-align: middle;\n    }\n\n    .dataframe tbody tr th {\n        vertical-align: top;\n    }\n\n    .dataframe thead th {\n        text-align: right;\n    }\n</style>\n<table border=\"1\" class=\"dataframe\">\n  <thead>\n    <tr style=\"text-align: right;\">\n      <th></th>\n      <th>title</th>\n    </tr>\n    <tr>\n      <th>recipes_id</th>\n      <th></th>\n    </tr>\n  </thead>\n  <tbody>\n    <tr>\n      <th>0</th>\n      <td>Chickpeas with harissa and yoghurt</td>\n    </tr>\n    <tr>\n      <th>1</th>\n      <td>Chickpea, spinach and egg curry</td>\n    </tr>\n    <tr>\n      <th>2</th>\n      <td>Tomato, chickpea and pasta soup</td>\n    </tr>\n  </tbody>\n</table>\n</div>"
     },
     "metadata": {},
     "execution_count": 8
    }
   ],
   "source": [
    "recipes_df = cuukin.evaluation_data['recipes'][['title']]\n",
    "recipes_df.rename_axis('recipes_id', inplace=True)\n",
    "recipes_df.head(3)"
   ]
  },
  {
   "source": [
    "Randomizing recipes on methods data frame"
   ],
   "cell_type": "markdown",
   "metadata": {}
  },
  {
   "cell_type": "code",
   "execution_count": 9,
   "metadata": {},
   "outputs": [
    {
     "output_type": "stream",
     "name": "stdout",
     "text": [
      "                methods_id  recipe_id  \\\nrand_method_id                          \n0                     5068        863   \n1                     5069        863   \n2                     5070        863   \n\n                                                      description  \\\nrand_method_id                                                      \n0                        Preheat the oven to 200C/180C Fan/Gas 6.   \n1               Put the mushrooms, chard, oil, garlic, chilli,...   \n2               Bring a large pan of salted water to the boil,...   \n\n                method_index  \nrand_method_id                \n0                          1  \n1                          2  \n2                          3  \n"
     ]
    }
   ],
   "source": [
    "recipes = [df for _, df in methods_df.groupby('recipe_id')]\n",
    "np.random.shuffle(recipes)\n",
    "df = pd.concat(recipes).reset_index()\n",
    "df.rename_axis('rand_method_id', inplace = True)\n",
    "rand_methods_df = df\n",
    "print(rand_methods_df.head(3))"
   ]
  },
  {
   "source": [
    "Defining path and exporting pickled data frames"
   ],
   "cell_type": "markdown",
   "metadata": {}
  },
  {
   "cell_type": "code",
   "execution_count": 10,
   "metadata": {},
   "outputs": [],
   "source": [
    "path = r'c:/users/guilh/code/classapp/data'"
   ]
  },
  {
   "cell_type": "code",
   "execution_count": 11,
   "metadata": {},
   "outputs": [],
   "source": [
    "techniques_df.to_pickle(path + '/techniques')\n",
    "badges_df.to_pickle(path + '/badges')\n",
    "rand_methods_df.to_pickle(path + '/methods')\n",
    "recipes_df.to_pickle(path+ '/recipes')"
   ]
  }
 ]
}